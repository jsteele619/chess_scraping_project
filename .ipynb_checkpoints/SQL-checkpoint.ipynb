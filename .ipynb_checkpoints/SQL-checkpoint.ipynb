{
 "cells": [
  {
   "cell_type": "code",
   "execution_count": 1,
   "metadata": {},
   "outputs": [],
   "source": [
    "import pandas as pd\n",
    "from sqlalchemy import create_engine\n",
    "from config import login"
   ]
  },
  {
   "cell_type": "code",
   "execution_count": 2,
   "metadata": {},
   "outputs": [],
   "source": [
    "db_url = 'postgresql://' + login + '@localhost:5432/chess_db'\n",
    "engine = create_engine(db_url)\n",
    "connection = engine.connect()"
   ]
  },
  {
   "cell_type": "code",
   "execution_count": 3,
   "metadata": {},
   "outputs": [],
   "source": [
    "master_df = pd.read_csv(\"csv_files/master_df.csv\")\n",
    "master_df = master_df.set_index(\"date\")"
   ]
  },
  {
   "cell_type": "code",
   "execution_count": 85,
   "metadata": {},
   "outputs": [
    {
     "ename": "ProgrammingError",
     "evalue": "(psycopg2.errors.UndefinedColumn) column \"time_control\" of relation \"chess\" does not exist\nLINE 1: INSERT INTO chess (date, time, time_control, white_name, whi...\n                                       ^\n\n[SQL: INSERT INTO chess (date, time, time_control, white_name, white_rating, white_result, white_bool, black_name, black_rating, black_result, black_bool, eco_code, eco_name, pgn_score, pgn_string, url) VALUES (%(date)s, %(time)s, %(time_control)s, %(white_name)s, %(white_rating)s, %(white_result)s, %(white_bool)s, %(black_name)s, %(black_rating)s, %(black_result)s, %(black_bool)s, %(eco_code)s, %(eco_name)s, %(pgn_score)s, %(pgn_string)s, %(url)s)]\n[parameters: ({'date': '2012-07-22', 'time': '13:44:40', 'time_control': '1800', 'white_name': 'jsteele619', 'white_rating': 1000, 'white_result': 'checkmated', 'white_bool': 0.0, 'black_name': 'kevin914', 'black_rating': 1200, 'black_result': 'win', 'black_bool': 1.0, 'eco_code': 'C24', 'eco_name': 'Bishops-Opening-Berlin-Defense-3.d3-d5', 'pgn_score': \"['1.', 'e4', '1...', 'e5', '2.', 'Bc4', '2...', 'Nf6', '3.', 'd3', '3...', 'd5', '4.', 'Bb3', '4...', 'c5', '5.', 'Bg5', '5...', 'dxe4', '6.', 'Nc3', ... (424 characters truncated) ... 20...', 'Rxf2', '21.', 'Qxh7+', '21...', 'Kf7', '22.', 'Rd7+', '22...', 'Ke8', '23.', 'Qxg7', '23...', 'Qxb2+', '24.', 'Kd1', '24...', 'Qb1#', '0-1']\", 'pgn_string': '1. e4 1... e5 2. Bc4 2... Nf6 3. d3 3... d5 4. Bb3 4... c5 5. Bg5 5... dxe4 6. Nc3 6... exd3 7. cxd3 7... Be7 8. Qe2 8... Ng4 9. Qf3 9... O-O 10. Bxe ... (133 characters truncated) ... 7... fxe6 18. Qe4 18... c4 19. Rd2 19... cxd3 20. Qxd3 20... Rxf2 21. Qxh7+ 21... Kf7 22. Rd7+ 22... Ke8 23. Qxg7 23... Qxb2+ 24. Kd1 24... Qb1# 0-1 ', 'url': 'https://www.chess.com/live/game/332713828'}, {'date': '2012-07-22', 'time': '14:36:00', 'time_control': '1800', 'white_name': 'mupmilan', 'white_rating': 1043, 'white_result': 'resigned', 'white_bool': 0.0, 'black_name': 'jsteele619', 'black_rating': 1146, 'black_result': 'win', 'black_bool': 1.0, 'eco_code': 'C50', 'eco_name': 'Italian-Game', 'pgn_score': \"['1.', 'e4', '1...', 'e5', '2.', 'Nf3', '2...', 'Nc6', '3.', 'Bc4', '3...', 'f6', '4.', 'Bb5', '4...', 'Nge7', '5.', 'Bxc6', '5...', 'Nxc6', '6.', 'd ... (513 characters truncated) ... , '23...', 'Bd6', '24.', 'Qxd4', '24...', 'h5', '25.', 'Ng5', '25...', 'Bxh2+', '26.', 'Kxh2', '26...', 'Qxd4', '27.', 'Nf3', '27...', 'Qxa1', '0-1']\", 'pgn_string': '1. e4 1... e5 2. Nf3 2... Nc6 3. Bc4 3... f6 4. Bb5 4... Nge7 5. Bxc6 5... Nxc6 6. d3 6... d5 7. O-O 7... Be6 8. exd5 8... Bxd5 9. Nc3 9... Qd7 10. N ... (186 characters truncated) ... 2 20... g4 21. Qe8+ 21... Qd8 22. Qe6+ 22... Kb7 23. Qxg4 23... Bd6 24. Qxd4 24... h5 25. Ng5 25... Bxh2+ 26. Kxh2 26... Qxd4 27. Nf3 27... Qxa1 0-1 ', 'url': 'https://www.chess.com/live/game/332735999'}, {'date': '2012-07-22', 'time': '15:01:19', 'time_control': '1800', 'white_name': 'Hoschemal', 'white_rating': 1133, 'white_result': 'checkmated', 'white_bool': 0.0, 'black_name': 'jsteele619', 'black_rating': 1251, 'black_result': 'win', 'black_bool': 1.0, 'eco_code': 'C00', 'eco_name': 'French-Defense-Normal-Variation', 'pgn_score': \"['1.', 'd4', '1...', 'e6', '2.', 'e4', '2...', 'c6', '3.', 'e5', '3...', 'g6', '4.', 'f4', '4...', 'b6', '5.', 'Nc3', '5...', 'Bb4', '6.', 'Bd2', '6. ... (629 characters truncated) ... '27...', 'Qxa5', '28.', 'Ra1', '28...', 'Ra2', '29.', 'Rab1', '29...', 'Rxc3', '30.', 'Qxc3', '30...', 'Qxc3+', '31.', 'Ke4', '31...', 'Re2#', '0-1']\", 'pgn_string': '1. d4 1... e6 2. e4 2... c6 3. e5 3... g6 4. f4 4... b6 5. Nc3 5... Bb4 6. Bd2 6... Ne7 7. a3 7... Bxc3 8. Bxc3 8... Nd5 9. Qd2 9... Nxc3 10. Qxc3 10 ... (254 characters truncated) ... 5 24... Qb6 25. c3 25... Rc8 26. Kd2 26... Rb2+ 27. Ke3 27... Qxa5 28. Ra1 28... Ra2 29. Rab1 29... Rxc3 30. Qxc3 30... Qxc3+ 31. Ke4 31... Re2# 0-1 ', 'url': 'https://www.chess.com/live/game/332746229'}, {'date': '2012-07-22', 'time': '15:31:54', 'time_control': '1800', 'white_name': 'jsteele619', 'white_rating': 1177, 'white_result': 'resigned', 'white_bool': 0.0, 'black_name': 'GDhar', 'black_rating': 1330, 'black_result': 'win', 'black_bool': 1.0, 'eco_code': 'C44', 'eco_name': 'Scotch-Game', 'pgn_score': \"['1.', 'e4', '1...', 'e5', '2.', 'Nf3', '2...', 'Nc6', '3.', 'd4', '3...', 'd6', '4.', 'c3', '4...', 'Nf6', '5.', 'Bg5', '5...', 'exd4', '6.', 'cxd4' ... (1227 characters truncated) ...  'Rgg4', '47.', 'a5', '47...', 'Ra4', '48.', 'Ke3', '48...', 'Ra3+', '49.', 'Kf2', '49...', 'Rb4', '50.', 'Kf1', '50...', 'Rb2', '51.', 'Kg1', '0-1']\", 'pgn_string': '1. e4 1... e5 2. Nf3 2... Nc6 3. d4 3... d6 4. c3 4... Nf6 5. Bg5 5... exd4 6. cxd4 6... d5 7. e5 7... h6 8. Bxf6 8... gxf6 9. Bb5 9... Bd7 10. Bxc6  ... (618 characters truncated) ... ... Rg7+ 44. Kf3 44... Bxd6 45. Ke3 45... Be7 46. Kd3 46... Rgg4 47. a5 47... Ra4 48. Ke3 48... Ra3+ 49. Kf2 49... Rb4 50. Kf1 50... Rb2 51. Kg1 0-1 ', 'url': 'https://www.chess.com/live/game/332758116'}, {'date': '2012-07-22', 'time': '16:07:03', 'time_control': '1800', 'white_name': 'jsteele619', 'white_rating': 1106, 'white_result': 'resigned', 'white_bool': 0.0, 'black_name': 'NaturalBornKiller_94', 'black_rating': 1355, 'black_result': 'win', 'black_bool': 1.0, 'eco_code': 'B10', 'eco_name': 'Caro-Kann-Defense-Breyer-Variation-2...d5', 'pgn_score': \"['1.', 'e4', '1...', 'c6', '2.', 'd3', '2...', 'd5', '3.', 'f3', '3...', 'dxe4', '4.', 'fxe4', '4...', 'e5', '5.', 'Nf3', '5...', 'Bg4', '6.', 'Be2', ... (791 characters truncated) ... , '32...', 'Nxb4', '33.', 'Ne7+', '33...', 'Kf8', '34.', 'Ng6+', '34...', 'hxg6', '35.', 'hxg6', '35...', 'Kg7', '36.', 'g4', '36...', 'Kxg6', '0-1']\", 'pgn_string': '1. e4 1... c6 2. d3 2... d5 3. f3 3... dxe4 4. fxe4 4... e5 5. Nf3 5... Bg4 6. Be2 6... Bc5 7. Nxe5 7... Bxe2 8. Qxe2 8... Qf6 9. c3 9... Qxe5 10. d4 ... (356 characters truncated) ...  29... Ra3+ 30. Kf2 30... Nc5 31. Nxc6 31... Nd3+ 32. Kf1 32... Nxb4 33. Ne7+ 33... Kf8 34. Ng6+ 34... hxg6 35. hxg6 35... Kg7 36. g4 36... Kxg6 0-1 ', 'url': 'https://www.chess.com/live/game/332771264'}, {'date': '2012-07-22', 'time': '16:28:18', 'time_control': '1800', 'white_name': 'jsteele619', 'white_rating': 1052, 'white_result': 'abandoned', 'white_bool': 0.0, 'black_name': 'stevexp36', 'black_rating': 1177, 'black_result': 'win', 'black_bool': 1.0, 'eco_code': 'C41', 'eco_name': 'Philidor-Defense', 'pgn_score': \"['1.', 'e4', '1...', 'e5', '2.', 'Nf3', '2...', 'd6', '3.', 'b3', '3...', 'Bg4', '4.', 'Be2', '4...', 'Bxf3', '5.', 'Bxf3', '5...', 'Nf6', '6.', 'd4' ... (513 characters truncated) ... '23...', 'Qg5', '24.', 'hxg6', '24...', 'Rf3+', '25.', 'Kb1', '25...', 'Rxh3', '26.', 'Rxh3', '26...', 'Qxg2', '27.', 'Rxh7', '27...', 'Qxg6', '0-1']\", 'pgn_string': '1. e4 1... e5 2. Nf3 2... d6 3. b3 3... Bg4 4. Be2 4... Bxf3 5. Bxf3 5... Nf6 6. d4 6... exd4 7. Qxd4 7... Nc6 8. Qa4 8... Be7 9. Nc3 9... O-O 10. Nd ... (186 characters truncated) ... 0... Nxf2 21. Qf3 21... Nxh1 22. Rxh1 22... Rf4 23. Qh3 23... Qg5 24. hxg6 24... Rf3+ 25. Kb1 25... Rxh3 26. Rxh3 26... Qxg2 27. Rxh7 27... Qxg6 0-1 ', 'url': 'https://www.chess.com/live/game/332778647'}, {'date': '2012-07-23', 'time': '17:07:31', 'time_control': '1800', 'white_name': 'kencooper', 'white_rating': 1066, 'white_result': 'win', 'white_bool': 1.0, 'black_name': 'jsteele619', 'black_rating': 996, 'black_result': 'resigned', 'black_bool': 0.0, 'eco_code': 'C00', 'eco_name': 'French-Defense-Knight-Variation', 'pgn_score': \"['1.', 'e4', '1...', 'e6', '2.', 'Nf3', '2...', 'c6', '3.', 'd4', '3...', 'd5', '4.', 'e5', '4...', 'Ne7', '5.', 'Nc3', '5...', 'Nf5', '6.', 'Bd3', ' ... (90 characters truncated) ... , 'c5', '10.', 'axb4', '10...', 'cxb4', '11.', 'Ne2', '11...', 'Be7', '12.', 'Re1', '12...', 'f6', '13.', 'Ng3', '13...', 'g6', '14.', 'exf6', '1-0']\", 'pgn_string': '1. e4 1... e6 2. Nf3 2... c6 3. d4 3... d5 4. e5 4... Ne7 5. Nc3 5... Nf5 6. Bd3 6... Na6 7. O-O 7... Nb4 8. Bxf5 8... exf5 9. a3 9... c5 10. axb4 10... cxb4 11. Ne2 11... Be7 12. Re1 12... f6 13. Ng3 13... g6 14. exf6 1-0 ', 'url': 'https://www.chess.com/live/game/332791669'}, {'date': '2012-07-24', 'time': '12:50:52', 'time_control': '600', 'white_name': 'fox1000', 'white_rating': 1044, 'white_result': 'win', 'white_bool': 1.0, 'black_name': 'jsteele619', 'black_rating': 980, 'black_result': 'timeout', 'black_bool': 0.0, 'eco_code': 'A40', 'eco_name': 'Queens-Pawn-Opening-Horwitz-Defense', 'pgn_score': \"['1.', 'd4', '1...', 'e6', '2.', 'e3', '2...', 'g6', '3.', 'b3', '3...', 'Bg7', '4.', 'Bb2', '4...', 'd5', '5.', 'c4', '5...', 'c5', '6.', 'cxd5', '6 ... (499 characters truncated) ... c8', '23.', 'Rxc8', '23...', 'Rxc8', '24.', 'Kf2', '24...', 'Rc5', '25.', 'Nb7', '25...', 'Rb5', '26.', 'Nd6', '26...', 'Rxb3', '27.', 'Qxb3', '1-0']\", 'pgn_string': '1. d4 1... e6 2. e3 2... g6 3. b3 3... Bg7 4. Bb2 4... d5 5. c4 5... c5 6. cxd5 6... exd5 7. dxc5 7... Qa5+ 8. Nc3 8... Bxc3+ 9. Bxc3 9... Qxc3+ 10.  ... (178 characters truncated) ... f8 20. Bxa6 20... bxa6 21. Nb7 21... Kg7 22. Nxa5 22... Rac8 23. Rxc8 23... Rxc8 24. Kf2 24... Rc5 25. Nb7 25... Rb5 26. Nd6 26... Rxb3 27. Qxb3 1-0 ', 'url': 'https://www.chess.com/live/game/333774439'}  ... displaying 10 of 13675 total bound parameter sets ...  {'date': '2020-12-18', 'time': '15:23:23', 'time_control': '180', 'white_name': 'AndradeCorrea', 'white_rating': 2024, 'white_result': 'resigned', 'white_bool': 0.0, 'black_name': 'jsteele619', 'black_rating': 2093, 'black_result': 'win', 'black_bool': 1.0, 'eco_code': 'D00', 'eco_name': 'Queens-Pawn-Opening-1...d5-2.e3', 'pgn_score': \"['1.', 'd4', '1...', 'd5', '2.', 'e3', '2...', 'c6', '3.', 'Bd3', '3...', 'Nf6', '4.', 'f4', '4...', 'Bg4', '5.', 'Nf3', '5...', 'e6', '6.', 'Nbd2',  ... (1111 characters truncated) ... Rd3', '43...', 'e2', '44.', 'Rd5+', '44...', 'Kc4', '45.', 'Re5', '45...', 'f3', '46.', 'Kf5', '46...', 'f2', '47.', 'Rxe2', '47...', 'f1=Q+', '0-1']\", 'pgn_string': '1. d4 1... d5 2. e3 2... c6 3. Bd3 3... Nf6 4. f4 4... Bg4 5. Nf3 5... e6 6. Nbd2 6... Nbd7 7. O-O 7... g6 8. Qe1 8... c5 9. c3 9... Qc7 10. Ne5 10.. ... (544 characters truncated) ... + 40. Kg7 40... e4 41. Kxf7 41... f4 42. Ke6 42... e3 43. Rd3 43... e2 44. Rd5+ 44... Kc4 45. Re5 45... f3 46. Kf5 46... f2 47. Rxe2 47... f1=Q+ 0-1 ', 'url': 'https://www.chess.com/live/game/6001472187'}, {'date': '2020-12-19', 'time': '16:04:33', 'time_control': '180', 'white_name': 'jsteele619', 'white_rating': 2102, 'white_result': 'win', 'white_bool': 1.0, 'black_name': 'rlybadatchess888', 'black_rating': 2132, 'black_result': 'timeout', 'black_bool': 0.0, 'eco_code': 'E61', 'eco_name': 'Kings-Indian-Defense-3.Nc3-d6', 'pgn_score': \"['1.', 'd4', '1...', 'Nf6', '2.', 'c4', '2...', 'g6', '3.', 'Nc3', '3...', 'd6', '4.', 'e4', '4...', 'Bg7', '5.', 'Bd3', '5...', 'O-O', '6.', 'Nge2', ... (637 characters truncated) ... xa5', '28.', 'Nc3', '28...', 'Rg2+', '29.', 'Kh1', '29...', 'Qg5', '30.', 'Bf6', '30...', 'Qa5', '31.', 'Qxd6', '31...', 'Re2', '32.', 'Qb8+', '1-0']\", 'pgn_string': '1. d4 1... Nf6 2. c4 2... g6 3. Nc3 3... d6 4. e4 4... Bg7 5. Bd3 5... O-O 6. Nge2 6... c5 7. d5 7... e6 8. f3 8... exd5 9. cxd5 9... Na6 10. a3 10.. ... (256 characters truncated) ... . b3 25. Bd4 25... Rxe2 26. Bxg7 26... Nf4 27. Qd4 27... Qxa5 28. Nc3 28... Rg2+ 29. Kh1 29... Qg5 30. Bf6 30... Qa5 31. Qxd6 31... Re2 32. Qb8+ 1-0 ', 'url': 'https://www.chess.com/live/game/6001706764'})]\n(Background on this error at: http://sqlalche.me/e/13/f405)",
     "output_type": "error",
     "traceback": [
      "\u001b[0;31m---------------------------------------------------------------------------\u001b[0m",
      "\u001b[0;31mUndefinedColumn\u001b[0m                           Traceback (most recent call last)",
      "\u001b[0;32m/opt/miniconda3/lib/python3.7/site-packages/sqlalchemy/engine/base.py\u001b[0m in \u001b[0;36m_execute_context\u001b[0;34m(self, dialect, constructor, statement, parameters, *args)\u001b[0m\n\u001b[1;32m   1256\u001b[0m                     self.dialect.do_executemany(\n\u001b[0;32m-> 1257\u001b[0;31m                         \u001b[0mcursor\u001b[0m\u001b[0;34m,\u001b[0m \u001b[0mstatement\u001b[0m\u001b[0;34m,\u001b[0m \u001b[0mparameters\u001b[0m\u001b[0;34m,\u001b[0m \u001b[0mcontext\u001b[0m\u001b[0;34m\u001b[0m\u001b[0;34m\u001b[0m\u001b[0m\n\u001b[0m\u001b[1;32m   1258\u001b[0m                     )\n",
      "\u001b[0;32m/opt/miniconda3/lib/python3.7/site-packages/sqlalchemy/dialects/postgresql/psycopg2.py\u001b[0m in \u001b[0;36mdo_executemany\u001b[0;34m(self, cursor, statement, parameters, context)\u001b[0m\n\u001b[1;32m    897\u001b[0m         \u001b[0;32mif\u001b[0m \u001b[0mself\u001b[0m\u001b[0;34m.\u001b[0m\u001b[0mexecutemany_mode\u001b[0m \u001b[0;32mis\u001b[0m \u001b[0mEXECUTEMANY_DEFAULT\u001b[0m\u001b[0;34m:\u001b[0m\u001b[0;34m\u001b[0m\u001b[0;34m\u001b[0m\u001b[0m\n\u001b[0;32m--> 898\u001b[0;31m             \u001b[0mcursor\u001b[0m\u001b[0;34m.\u001b[0m\u001b[0mexecutemany\u001b[0m\u001b[0;34m(\u001b[0m\u001b[0mstatement\u001b[0m\u001b[0;34m,\u001b[0m \u001b[0mparameters\u001b[0m\u001b[0;34m)\u001b[0m\u001b[0;34m\u001b[0m\u001b[0;34m\u001b[0m\u001b[0m\n\u001b[0m\u001b[1;32m    899\u001b[0m             \u001b[0;32mreturn\u001b[0m\u001b[0;34m\u001b[0m\u001b[0;34m\u001b[0m\u001b[0m\n",
      "\u001b[0;31mUndefinedColumn\u001b[0m: column \"time_control\" of relation \"chess\" does not exist\nLINE 1: INSERT INTO chess (date, time, time_control, white_name, whi...\n                                       ^\n",
      "\nThe above exception was the direct cause of the following exception:\n",
      "\u001b[0;31mProgrammingError\u001b[0m                          Traceback (most recent call last)",
      "\u001b[0;32m<ipython-input-85-a85dfe3beb24>\u001b[0m in \u001b[0;36m<module>\u001b[0;34m\u001b[0m\n\u001b[0;32m----> 1\u001b[0;31m \u001b[0mmaster_df\u001b[0m\u001b[0;34m.\u001b[0m\u001b[0mto_sql\u001b[0m\u001b[0;34m(\u001b[0m\u001b[0;34m'chess'\u001b[0m\u001b[0;34m,\u001b[0m \u001b[0mengine\u001b[0m\u001b[0;34m,\u001b[0m \u001b[0mif_exists\u001b[0m\u001b[0;34m=\u001b[0m\u001b[0;34m'append'\u001b[0m\u001b[0;34m)\u001b[0m\u001b[0;34m\u001b[0m\u001b[0;34m\u001b[0m\u001b[0m\n\u001b[0m",
      "\u001b[0;32m/opt/miniconda3/lib/python3.7/site-packages/pandas/core/generic.py\u001b[0m in \u001b[0;36mto_sql\u001b[0;34m(self, name, con, schema, if_exists, index, index_label, chunksize, dtype, method)\u001b[0m\n\u001b[1;32m   2610\u001b[0m             \u001b[0mchunksize\u001b[0m\u001b[0;34m=\u001b[0m\u001b[0mchunksize\u001b[0m\u001b[0;34m,\u001b[0m\u001b[0;34m\u001b[0m\u001b[0;34m\u001b[0m\u001b[0m\n\u001b[1;32m   2611\u001b[0m             \u001b[0mdtype\u001b[0m\u001b[0;34m=\u001b[0m\u001b[0mdtype\u001b[0m\u001b[0;34m,\u001b[0m\u001b[0;34m\u001b[0m\u001b[0;34m\u001b[0m\u001b[0m\n\u001b[0;32m-> 2612\u001b[0;31m             \u001b[0mmethod\u001b[0m\u001b[0;34m=\u001b[0m\u001b[0mmethod\u001b[0m\u001b[0;34m,\u001b[0m\u001b[0;34m\u001b[0m\u001b[0;34m\u001b[0m\u001b[0m\n\u001b[0m\u001b[1;32m   2613\u001b[0m         )\n\u001b[1;32m   2614\u001b[0m \u001b[0;34m\u001b[0m\u001b[0m\n",
      "\u001b[0;32m/opt/miniconda3/lib/python3.7/site-packages/pandas/io/sql.py\u001b[0m in \u001b[0;36mto_sql\u001b[0;34m(frame, name, con, schema, if_exists, index, index_label, chunksize, dtype, method)\u001b[0m\n\u001b[1;32m    596\u001b[0m         \u001b[0mchunksize\u001b[0m\u001b[0;34m=\u001b[0m\u001b[0mchunksize\u001b[0m\u001b[0;34m,\u001b[0m\u001b[0;34m\u001b[0m\u001b[0;34m\u001b[0m\u001b[0m\n\u001b[1;32m    597\u001b[0m         \u001b[0mdtype\u001b[0m\u001b[0;34m=\u001b[0m\u001b[0mdtype\u001b[0m\u001b[0;34m,\u001b[0m\u001b[0;34m\u001b[0m\u001b[0;34m\u001b[0m\u001b[0m\n\u001b[0;32m--> 598\u001b[0;31m         \u001b[0mmethod\u001b[0m\u001b[0;34m=\u001b[0m\u001b[0mmethod\u001b[0m\u001b[0;34m,\u001b[0m\u001b[0;34m\u001b[0m\u001b[0;34m\u001b[0m\u001b[0m\n\u001b[0m\u001b[1;32m    599\u001b[0m     )\n\u001b[1;32m    600\u001b[0m \u001b[0;34m\u001b[0m\u001b[0m\n",
      "\u001b[0;32m/opt/miniconda3/lib/python3.7/site-packages/pandas/io/sql.py\u001b[0m in \u001b[0;36mto_sql\u001b[0;34m(self, frame, name, if_exists, index, index_label, schema, chunksize, dtype, method)\u001b[0m\n\u001b[1;32m   1404\u001b[0m                 \u001b[0;32mraise\u001b[0m \u001b[0mValueError\u001b[0m\u001b[0;34m(\u001b[0m\u001b[0;34m\"inf cannot be used with MySQL\"\u001b[0m\u001b[0;34m)\u001b[0m \u001b[0;32mfrom\u001b[0m \u001b[0merr\u001b[0m\u001b[0;34m\u001b[0m\u001b[0;34m\u001b[0m\u001b[0m\n\u001b[1;32m   1405\u001b[0m             \u001b[0;32melse\u001b[0m\u001b[0;34m:\u001b[0m\u001b[0;34m\u001b[0m\u001b[0;34m\u001b[0m\u001b[0m\n\u001b[0;32m-> 1406\u001b[0;31m                 \u001b[0;32mraise\u001b[0m \u001b[0merr\u001b[0m\u001b[0;34m\u001b[0m\u001b[0;34m\u001b[0m\u001b[0m\n\u001b[0m\u001b[1;32m   1407\u001b[0m \u001b[0;34m\u001b[0m\u001b[0m\n\u001b[1;32m   1408\u001b[0m         \u001b[0;32mif\u001b[0m \u001b[0;32mnot\u001b[0m \u001b[0mname\u001b[0m\u001b[0;34m.\u001b[0m\u001b[0misdigit\u001b[0m\u001b[0;34m(\u001b[0m\u001b[0;34m)\u001b[0m \u001b[0;32mand\u001b[0m \u001b[0;32mnot\u001b[0m \u001b[0mname\u001b[0m\u001b[0;34m.\u001b[0m\u001b[0mislower\u001b[0m\u001b[0;34m(\u001b[0m\u001b[0;34m)\u001b[0m\u001b[0;34m:\u001b[0m\u001b[0;34m\u001b[0m\u001b[0;34m\u001b[0m\u001b[0m\n",
      "\u001b[0;32m/opt/miniconda3/lib/python3.7/site-packages/pandas/io/sql.py\u001b[0m in \u001b[0;36mto_sql\u001b[0;34m(self, frame, name, if_exists, index, index_label, schema, chunksize, dtype, method)\u001b[0m\n\u001b[1;32m   1396\u001b[0m \u001b[0;34m\u001b[0m\u001b[0m\n\u001b[1;32m   1397\u001b[0m         \u001b[0;32mtry\u001b[0m\u001b[0;34m:\u001b[0m\u001b[0;34m\u001b[0m\u001b[0;34m\u001b[0m\u001b[0m\n\u001b[0;32m-> 1398\u001b[0;31m             \u001b[0mtable\u001b[0m\u001b[0;34m.\u001b[0m\u001b[0minsert\u001b[0m\u001b[0;34m(\u001b[0m\u001b[0mchunksize\u001b[0m\u001b[0;34m,\u001b[0m \u001b[0mmethod\u001b[0m\u001b[0;34m=\u001b[0m\u001b[0mmethod\u001b[0m\u001b[0;34m)\u001b[0m\u001b[0;34m\u001b[0m\u001b[0;34m\u001b[0m\u001b[0m\n\u001b[0m\u001b[1;32m   1399\u001b[0m         \u001b[0;32mexcept\u001b[0m \u001b[0mexc\u001b[0m\u001b[0;34m.\u001b[0m\u001b[0mSQLAlchemyError\u001b[0m \u001b[0;32mas\u001b[0m \u001b[0merr\u001b[0m\u001b[0;34m:\u001b[0m\u001b[0;34m\u001b[0m\u001b[0;34m\u001b[0m\u001b[0m\n\u001b[1;32m   1400\u001b[0m             \u001b[0;31m# GH34431\u001b[0m\u001b[0;34m\u001b[0m\u001b[0;34m\u001b[0m\u001b[0;34m\u001b[0m\u001b[0m\n",
      "\u001b[0;32m/opt/miniconda3/lib/python3.7/site-packages/pandas/io/sql.py\u001b[0m in \u001b[0;36minsert\u001b[0;34m(self, chunksize, method)\u001b[0m\n\u001b[1;32m    828\u001b[0m \u001b[0;34m\u001b[0m\u001b[0m\n\u001b[1;32m    829\u001b[0m                 \u001b[0mchunk_iter\u001b[0m \u001b[0;34m=\u001b[0m \u001b[0mzip\u001b[0m\u001b[0;34m(\u001b[0m\u001b[0;34m*\u001b[0m\u001b[0;34m[\u001b[0m\u001b[0marr\u001b[0m\u001b[0;34m[\u001b[0m\u001b[0mstart_i\u001b[0m\u001b[0;34m:\u001b[0m\u001b[0mend_i\u001b[0m\u001b[0;34m]\u001b[0m \u001b[0;32mfor\u001b[0m \u001b[0marr\u001b[0m \u001b[0;32min\u001b[0m \u001b[0mdata_list\u001b[0m\u001b[0;34m]\u001b[0m\u001b[0;34m)\u001b[0m\u001b[0;34m\u001b[0m\u001b[0;34m\u001b[0m\u001b[0m\n\u001b[0;32m--> 830\u001b[0;31m                 \u001b[0mexec_insert\u001b[0m\u001b[0;34m(\u001b[0m\u001b[0mconn\u001b[0m\u001b[0;34m,\u001b[0m \u001b[0mkeys\u001b[0m\u001b[0;34m,\u001b[0m \u001b[0mchunk_iter\u001b[0m\u001b[0;34m)\u001b[0m\u001b[0;34m\u001b[0m\u001b[0;34m\u001b[0m\u001b[0m\n\u001b[0m\u001b[1;32m    831\u001b[0m \u001b[0;34m\u001b[0m\u001b[0m\n\u001b[1;32m    832\u001b[0m     def _query_iterator(\n",
      "\u001b[0;32m/opt/miniconda3/lib/python3.7/site-packages/pandas/io/sql.py\u001b[0m in \u001b[0;36m_execute_insert\u001b[0;34m(self, conn, keys, data_iter)\u001b[0m\n\u001b[1;32m    745\u001b[0m         \"\"\"\n\u001b[1;32m    746\u001b[0m         \u001b[0mdata\u001b[0m \u001b[0;34m=\u001b[0m \u001b[0;34m[\u001b[0m\u001b[0mdict\u001b[0m\u001b[0;34m(\u001b[0m\u001b[0mzip\u001b[0m\u001b[0;34m(\u001b[0m\u001b[0mkeys\u001b[0m\u001b[0;34m,\u001b[0m \u001b[0mrow\u001b[0m\u001b[0;34m)\u001b[0m\u001b[0;34m)\u001b[0m \u001b[0;32mfor\u001b[0m \u001b[0mrow\u001b[0m \u001b[0;32min\u001b[0m \u001b[0mdata_iter\u001b[0m\u001b[0;34m]\u001b[0m\u001b[0;34m\u001b[0m\u001b[0;34m\u001b[0m\u001b[0m\n\u001b[0;32m--> 747\u001b[0;31m         \u001b[0mconn\u001b[0m\u001b[0;34m.\u001b[0m\u001b[0mexecute\u001b[0m\u001b[0;34m(\u001b[0m\u001b[0mself\u001b[0m\u001b[0;34m.\u001b[0m\u001b[0mtable\u001b[0m\u001b[0;34m.\u001b[0m\u001b[0minsert\u001b[0m\u001b[0;34m(\u001b[0m\u001b[0;34m)\u001b[0m\u001b[0;34m,\u001b[0m \u001b[0mdata\u001b[0m\u001b[0;34m)\u001b[0m\u001b[0;34m\u001b[0m\u001b[0;34m\u001b[0m\u001b[0m\n\u001b[0m\u001b[1;32m    748\u001b[0m \u001b[0;34m\u001b[0m\u001b[0m\n\u001b[1;32m    749\u001b[0m     \u001b[0;32mdef\u001b[0m \u001b[0m_execute_insert_multi\u001b[0m\u001b[0;34m(\u001b[0m\u001b[0mself\u001b[0m\u001b[0;34m,\u001b[0m \u001b[0mconn\u001b[0m\u001b[0;34m,\u001b[0m \u001b[0mkeys\u001b[0m\u001b[0;34m,\u001b[0m \u001b[0mdata_iter\u001b[0m\u001b[0;34m)\u001b[0m\u001b[0;34m:\u001b[0m\u001b[0;34m\u001b[0m\u001b[0;34m\u001b[0m\u001b[0m\n",
      "\u001b[0;32m/opt/miniconda3/lib/python3.7/site-packages/sqlalchemy/engine/base.py\u001b[0m in \u001b[0;36mexecute\u001b[0;34m(self, object_, *multiparams, **params)\u001b[0m\n\u001b[1;32m   1009\u001b[0m             )\n\u001b[1;32m   1010\u001b[0m         \u001b[0;32melse\u001b[0m\u001b[0;34m:\u001b[0m\u001b[0;34m\u001b[0m\u001b[0;34m\u001b[0m\u001b[0m\n\u001b[0;32m-> 1011\u001b[0;31m             \u001b[0;32mreturn\u001b[0m \u001b[0mmeth\u001b[0m\u001b[0;34m(\u001b[0m\u001b[0mself\u001b[0m\u001b[0;34m,\u001b[0m \u001b[0mmultiparams\u001b[0m\u001b[0;34m,\u001b[0m \u001b[0mparams\u001b[0m\u001b[0;34m)\u001b[0m\u001b[0;34m\u001b[0m\u001b[0;34m\u001b[0m\u001b[0m\n\u001b[0m\u001b[1;32m   1012\u001b[0m \u001b[0;34m\u001b[0m\u001b[0m\n\u001b[1;32m   1013\u001b[0m     \u001b[0;32mdef\u001b[0m \u001b[0m_execute_function\u001b[0m\u001b[0;34m(\u001b[0m\u001b[0mself\u001b[0m\u001b[0;34m,\u001b[0m \u001b[0mfunc\u001b[0m\u001b[0;34m,\u001b[0m \u001b[0mmultiparams\u001b[0m\u001b[0;34m,\u001b[0m \u001b[0mparams\u001b[0m\u001b[0;34m)\u001b[0m\u001b[0;34m:\u001b[0m\u001b[0;34m\u001b[0m\u001b[0;34m\u001b[0m\u001b[0m\n",
      "\u001b[0;32m/opt/miniconda3/lib/python3.7/site-packages/sqlalchemy/sql/elements.py\u001b[0m in \u001b[0;36m_execute_on_connection\u001b[0;34m(self, connection, multiparams, params)\u001b[0m\n\u001b[1;32m    296\u001b[0m     \u001b[0;32mdef\u001b[0m \u001b[0m_execute_on_connection\u001b[0m\u001b[0;34m(\u001b[0m\u001b[0mself\u001b[0m\u001b[0;34m,\u001b[0m \u001b[0mconnection\u001b[0m\u001b[0;34m,\u001b[0m \u001b[0mmultiparams\u001b[0m\u001b[0;34m,\u001b[0m \u001b[0mparams\u001b[0m\u001b[0;34m)\u001b[0m\u001b[0;34m:\u001b[0m\u001b[0;34m\u001b[0m\u001b[0;34m\u001b[0m\u001b[0m\n\u001b[1;32m    297\u001b[0m         \u001b[0;32mif\u001b[0m \u001b[0mself\u001b[0m\u001b[0;34m.\u001b[0m\u001b[0msupports_execution\u001b[0m\u001b[0;34m:\u001b[0m\u001b[0;34m\u001b[0m\u001b[0;34m\u001b[0m\u001b[0m\n\u001b[0;32m--> 298\u001b[0;31m             \u001b[0;32mreturn\u001b[0m \u001b[0mconnection\u001b[0m\u001b[0;34m.\u001b[0m\u001b[0m_execute_clauseelement\u001b[0m\u001b[0;34m(\u001b[0m\u001b[0mself\u001b[0m\u001b[0;34m,\u001b[0m \u001b[0mmultiparams\u001b[0m\u001b[0;34m,\u001b[0m \u001b[0mparams\u001b[0m\u001b[0;34m)\u001b[0m\u001b[0;34m\u001b[0m\u001b[0;34m\u001b[0m\u001b[0m\n\u001b[0m\u001b[1;32m    299\u001b[0m         \u001b[0;32melse\u001b[0m\u001b[0;34m:\u001b[0m\u001b[0;34m\u001b[0m\u001b[0;34m\u001b[0m\u001b[0m\n\u001b[1;32m    300\u001b[0m             \u001b[0;32mraise\u001b[0m \u001b[0mexc\u001b[0m\u001b[0;34m.\u001b[0m\u001b[0mObjectNotExecutableError\u001b[0m\u001b[0;34m(\u001b[0m\u001b[0mself\u001b[0m\u001b[0;34m)\u001b[0m\u001b[0;34m\u001b[0m\u001b[0;34m\u001b[0m\u001b[0m\n",
      "\u001b[0;32m/opt/miniconda3/lib/python3.7/site-packages/sqlalchemy/engine/base.py\u001b[0m in \u001b[0;36m_execute_clauseelement\u001b[0;34m(self, elem, multiparams, params)\u001b[0m\n\u001b[1;32m   1128\u001b[0m             \u001b[0mdistilled_params\u001b[0m\u001b[0;34m,\u001b[0m\u001b[0;34m\u001b[0m\u001b[0;34m\u001b[0m\u001b[0m\n\u001b[1;32m   1129\u001b[0m             \u001b[0mcompiled_sql\u001b[0m\u001b[0;34m,\u001b[0m\u001b[0;34m\u001b[0m\u001b[0;34m\u001b[0m\u001b[0m\n\u001b[0;32m-> 1130\u001b[0;31m             \u001b[0mdistilled_params\u001b[0m\u001b[0;34m,\u001b[0m\u001b[0;34m\u001b[0m\u001b[0;34m\u001b[0m\u001b[0m\n\u001b[0m\u001b[1;32m   1131\u001b[0m         )\n\u001b[1;32m   1132\u001b[0m         \u001b[0;32mif\u001b[0m \u001b[0mself\u001b[0m\u001b[0;34m.\u001b[0m\u001b[0m_has_events\u001b[0m \u001b[0;32mor\u001b[0m \u001b[0mself\u001b[0m\u001b[0;34m.\u001b[0m\u001b[0mengine\u001b[0m\u001b[0;34m.\u001b[0m\u001b[0m_has_events\u001b[0m\u001b[0;34m:\u001b[0m\u001b[0;34m\u001b[0m\u001b[0;34m\u001b[0m\u001b[0m\n",
      "\u001b[0;32m/opt/miniconda3/lib/python3.7/site-packages/sqlalchemy/engine/base.py\u001b[0m in \u001b[0;36m_execute_context\u001b[0;34m(self, dialect, constructor, statement, parameters, *args)\u001b[0m\n\u001b[1;32m   1315\u001b[0m         \u001b[0;32mexcept\u001b[0m \u001b[0mBaseException\u001b[0m \u001b[0;32mas\u001b[0m \u001b[0me\u001b[0m\u001b[0;34m:\u001b[0m\u001b[0;34m\u001b[0m\u001b[0;34m\u001b[0m\u001b[0m\n\u001b[1;32m   1316\u001b[0m             self._handle_dbapi_exception(\n\u001b[0;32m-> 1317\u001b[0;31m                 \u001b[0me\u001b[0m\u001b[0;34m,\u001b[0m \u001b[0mstatement\u001b[0m\u001b[0;34m,\u001b[0m \u001b[0mparameters\u001b[0m\u001b[0;34m,\u001b[0m \u001b[0mcursor\u001b[0m\u001b[0;34m,\u001b[0m \u001b[0mcontext\u001b[0m\u001b[0;34m\u001b[0m\u001b[0;34m\u001b[0m\u001b[0m\n\u001b[0m\u001b[1;32m   1318\u001b[0m             )\n\u001b[1;32m   1319\u001b[0m \u001b[0;34m\u001b[0m\u001b[0m\n",
      "\u001b[0;32m/opt/miniconda3/lib/python3.7/site-packages/sqlalchemy/engine/base.py\u001b[0m in \u001b[0;36m_handle_dbapi_exception\u001b[0;34m(self, e, statement, parameters, cursor, context)\u001b[0m\n\u001b[1;32m   1509\u001b[0m             \u001b[0;32melif\u001b[0m \u001b[0mshould_wrap\u001b[0m\u001b[0;34m:\u001b[0m\u001b[0;34m\u001b[0m\u001b[0;34m\u001b[0m\u001b[0m\n\u001b[1;32m   1510\u001b[0m                 util.raise_(\n\u001b[0;32m-> 1511\u001b[0;31m                     \u001b[0msqlalchemy_exception\u001b[0m\u001b[0;34m,\u001b[0m \u001b[0mwith_traceback\u001b[0m\u001b[0;34m=\u001b[0m\u001b[0mexc_info\u001b[0m\u001b[0;34m[\u001b[0m\u001b[0;36m2\u001b[0m\u001b[0;34m]\u001b[0m\u001b[0;34m,\u001b[0m \u001b[0mfrom_\u001b[0m\u001b[0;34m=\u001b[0m\u001b[0me\u001b[0m\u001b[0;34m\u001b[0m\u001b[0;34m\u001b[0m\u001b[0m\n\u001b[0m\u001b[1;32m   1512\u001b[0m                 )\n\u001b[1;32m   1513\u001b[0m             \u001b[0;32melse\u001b[0m\u001b[0;34m:\u001b[0m\u001b[0;34m\u001b[0m\u001b[0;34m\u001b[0m\u001b[0m\n",
      "\u001b[0;32m/opt/miniconda3/lib/python3.7/site-packages/sqlalchemy/util/compat.py\u001b[0m in \u001b[0;36mraise_\u001b[0;34m(***failed resolving arguments***)\u001b[0m\n\u001b[1;32m    180\u001b[0m \u001b[0;34m\u001b[0m\u001b[0m\n\u001b[1;32m    181\u001b[0m         \u001b[0;32mtry\u001b[0m\u001b[0;34m:\u001b[0m\u001b[0;34m\u001b[0m\u001b[0;34m\u001b[0m\u001b[0m\n\u001b[0;32m--> 182\u001b[0;31m             \u001b[0;32mraise\u001b[0m \u001b[0mexception\u001b[0m\u001b[0;34m\u001b[0m\u001b[0;34m\u001b[0m\u001b[0m\n\u001b[0m\u001b[1;32m    183\u001b[0m         \u001b[0;32mfinally\u001b[0m\u001b[0;34m:\u001b[0m\u001b[0;34m\u001b[0m\u001b[0;34m\u001b[0m\u001b[0m\n\u001b[1;32m    184\u001b[0m             \u001b[0;31m# credit to\u001b[0m\u001b[0;34m\u001b[0m\u001b[0;34m\u001b[0m\u001b[0;34m\u001b[0m\u001b[0m\n",
      "\u001b[0;32m/opt/miniconda3/lib/python3.7/site-packages/sqlalchemy/engine/base.py\u001b[0m in \u001b[0;36m_execute_context\u001b[0;34m(self, dialect, constructor, statement, parameters, *args)\u001b[0m\n\u001b[1;32m   1255\u001b[0m                 \u001b[0;32mif\u001b[0m \u001b[0;32mnot\u001b[0m \u001b[0mevt_handled\u001b[0m\u001b[0;34m:\u001b[0m\u001b[0;34m\u001b[0m\u001b[0;34m\u001b[0m\u001b[0m\n\u001b[1;32m   1256\u001b[0m                     self.dialect.do_executemany(\n\u001b[0;32m-> 1257\u001b[0;31m                         \u001b[0mcursor\u001b[0m\u001b[0;34m,\u001b[0m \u001b[0mstatement\u001b[0m\u001b[0;34m,\u001b[0m \u001b[0mparameters\u001b[0m\u001b[0;34m,\u001b[0m \u001b[0mcontext\u001b[0m\u001b[0;34m\u001b[0m\u001b[0;34m\u001b[0m\u001b[0m\n\u001b[0m\u001b[1;32m   1258\u001b[0m                     )\n\u001b[1;32m   1259\u001b[0m             \u001b[0;32melif\u001b[0m \u001b[0;32mnot\u001b[0m \u001b[0mparameters\u001b[0m \u001b[0;32mand\u001b[0m \u001b[0mcontext\u001b[0m\u001b[0;34m.\u001b[0m\u001b[0mno_parameters\u001b[0m\u001b[0;34m:\u001b[0m\u001b[0;34m\u001b[0m\u001b[0;34m\u001b[0m\u001b[0m\n",
      "\u001b[0;32m/opt/miniconda3/lib/python3.7/site-packages/sqlalchemy/dialects/postgresql/psycopg2.py\u001b[0m in \u001b[0;36mdo_executemany\u001b[0;34m(self, cursor, statement, parameters, context)\u001b[0m\n\u001b[1;32m    896\u001b[0m     \u001b[0;32mdef\u001b[0m \u001b[0mdo_executemany\u001b[0m\u001b[0;34m(\u001b[0m\u001b[0mself\u001b[0m\u001b[0;34m,\u001b[0m \u001b[0mcursor\u001b[0m\u001b[0;34m,\u001b[0m \u001b[0mstatement\u001b[0m\u001b[0;34m,\u001b[0m \u001b[0mparameters\u001b[0m\u001b[0;34m,\u001b[0m \u001b[0mcontext\u001b[0m\u001b[0;34m=\u001b[0m\u001b[0;32mNone\u001b[0m\u001b[0;34m)\u001b[0m\u001b[0;34m:\u001b[0m\u001b[0;34m\u001b[0m\u001b[0;34m\u001b[0m\u001b[0m\n\u001b[1;32m    897\u001b[0m         \u001b[0;32mif\u001b[0m \u001b[0mself\u001b[0m\u001b[0;34m.\u001b[0m\u001b[0mexecutemany_mode\u001b[0m \u001b[0;32mis\u001b[0m \u001b[0mEXECUTEMANY_DEFAULT\u001b[0m\u001b[0;34m:\u001b[0m\u001b[0;34m\u001b[0m\u001b[0;34m\u001b[0m\u001b[0m\n\u001b[0;32m--> 898\u001b[0;31m             \u001b[0mcursor\u001b[0m\u001b[0;34m.\u001b[0m\u001b[0mexecutemany\u001b[0m\u001b[0;34m(\u001b[0m\u001b[0mstatement\u001b[0m\u001b[0;34m,\u001b[0m \u001b[0mparameters\u001b[0m\u001b[0;34m)\u001b[0m\u001b[0;34m\u001b[0m\u001b[0;34m\u001b[0m\u001b[0m\n\u001b[0m\u001b[1;32m    899\u001b[0m             \u001b[0;32mreturn\u001b[0m\u001b[0;34m\u001b[0m\u001b[0;34m\u001b[0m\u001b[0m\n\u001b[1;32m    900\u001b[0m \u001b[0;34m\u001b[0m\u001b[0m\n",
      "\u001b[0;31mProgrammingError\u001b[0m: (psycopg2.errors.UndefinedColumn) column \"time_control\" of relation \"chess\" does not exist\nLINE 1: INSERT INTO chess (date, time, time_control, white_name, whi...\n                                       ^\n\n[SQL: INSERT INTO chess (date, time, time_control, white_name, white_rating, white_result, white_bool, black_name, black_rating, black_result, black_bool, eco_code, eco_name, pgn_score, pgn_string, url) VALUES (%(date)s, %(time)s, %(time_control)s, %(white_name)s, %(white_rating)s, %(white_result)s, %(white_bool)s, %(black_name)s, %(black_rating)s, %(black_result)s, %(black_bool)s, %(eco_code)s, %(eco_name)s, %(pgn_score)s, %(pgn_string)s, %(url)s)]\n[parameters: ({'date': '2012-07-22', 'time': '13:44:40', 'time_control': '1800', 'white_name': 'jsteele619', 'white_rating': 1000, 'white_result': 'checkmated', 'white_bool': 0.0, 'black_name': 'kevin914', 'black_rating': 1200, 'black_result': 'win', 'black_bool': 1.0, 'eco_code': 'C24', 'eco_name': 'Bishops-Opening-Berlin-Defense-3.d3-d5', 'pgn_score': \"['1.', 'e4', '1...', 'e5', '2.', 'Bc4', '2...', 'Nf6', '3.', 'd3', '3...', 'd5', '4.', 'Bb3', '4...', 'c5', '5.', 'Bg5', '5...', 'dxe4', '6.', 'Nc3', ... (424 characters truncated) ... 20...', 'Rxf2', '21.', 'Qxh7+', '21...', 'Kf7', '22.', 'Rd7+', '22...', 'Ke8', '23.', 'Qxg7', '23...', 'Qxb2+', '24.', 'Kd1', '24...', 'Qb1#', '0-1']\", 'pgn_string': '1. e4 1... e5 2. Bc4 2... Nf6 3. d3 3... d5 4. Bb3 4... c5 5. Bg5 5... dxe4 6. Nc3 6... exd3 7. cxd3 7... Be7 8. Qe2 8... Ng4 9. Qf3 9... O-O 10. Bxe ... (133 characters truncated) ... 7... fxe6 18. Qe4 18... c4 19. Rd2 19... cxd3 20. Qxd3 20... Rxf2 21. Qxh7+ 21... Kf7 22. Rd7+ 22... Ke8 23. Qxg7 23... Qxb2+ 24. Kd1 24... Qb1# 0-1 ', 'url': 'https://www.chess.com/live/game/332713828'}, {'date': '2012-07-22', 'time': '14:36:00', 'time_control': '1800', 'white_name': 'mupmilan', 'white_rating': 1043, 'white_result': 'resigned', 'white_bool': 0.0, 'black_name': 'jsteele619', 'black_rating': 1146, 'black_result': 'win', 'black_bool': 1.0, 'eco_code': 'C50', 'eco_name': 'Italian-Game', 'pgn_score': \"['1.', 'e4', '1...', 'e5', '2.', 'Nf3', '2...', 'Nc6', '3.', 'Bc4', '3...', 'f6', '4.', 'Bb5', '4...', 'Nge7', '5.', 'Bxc6', '5...', 'Nxc6', '6.', 'd ... (513 characters truncated) ... , '23...', 'Bd6', '24.', 'Qxd4', '24...', 'h5', '25.', 'Ng5', '25...', 'Bxh2+', '26.', 'Kxh2', '26...', 'Qxd4', '27.', 'Nf3', '27...', 'Qxa1', '0-1']\", 'pgn_string': '1. e4 1... e5 2. Nf3 2... Nc6 3. Bc4 3... f6 4. Bb5 4... Nge7 5. Bxc6 5... Nxc6 6. d3 6... d5 7. O-O 7... Be6 8. exd5 8... Bxd5 9. Nc3 9... Qd7 10. N ... (186 characters truncated) ... 2 20... g4 21. Qe8+ 21... Qd8 22. Qe6+ 22... Kb7 23. Qxg4 23... Bd6 24. Qxd4 24... h5 25. Ng5 25... Bxh2+ 26. Kxh2 26... Qxd4 27. Nf3 27... Qxa1 0-1 ', 'url': 'https://www.chess.com/live/game/332735999'}, {'date': '2012-07-22', 'time': '15:01:19', 'time_control': '1800', 'white_name': 'Hoschemal', 'white_rating': 1133, 'white_result': 'checkmated', 'white_bool': 0.0, 'black_name': 'jsteele619', 'black_rating': 1251, 'black_result': 'win', 'black_bool': 1.0, 'eco_code': 'C00', 'eco_name': 'French-Defense-Normal-Variation', 'pgn_score': \"['1.', 'd4', '1...', 'e6', '2.', 'e4', '2...', 'c6', '3.', 'e5', '3...', 'g6', '4.', 'f4', '4...', 'b6', '5.', 'Nc3', '5...', 'Bb4', '6.', 'Bd2', '6. ... (629 characters truncated) ... '27...', 'Qxa5', '28.', 'Ra1', '28...', 'Ra2', '29.', 'Rab1', '29...', 'Rxc3', '30.', 'Qxc3', '30...', 'Qxc3+', '31.', 'Ke4', '31...', 'Re2#', '0-1']\", 'pgn_string': '1. d4 1... e6 2. e4 2... c6 3. e5 3... g6 4. f4 4... b6 5. Nc3 5... Bb4 6. Bd2 6... Ne7 7. a3 7... Bxc3 8. Bxc3 8... Nd5 9. Qd2 9... Nxc3 10. Qxc3 10 ... (254 characters truncated) ... 5 24... Qb6 25. c3 25... Rc8 26. Kd2 26... Rb2+ 27. Ke3 27... Qxa5 28. Ra1 28... Ra2 29. Rab1 29... Rxc3 30. Qxc3 30... Qxc3+ 31. Ke4 31... Re2# 0-1 ', 'url': 'https://www.chess.com/live/game/332746229'}, {'date': '2012-07-22', 'time': '15:31:54', 'time_control': '1800', 'white_name': 'jsteele619', 'white_rating': 1177, 'white_result': 'resigned', 'white_bool': 0.0, 'black_name': 'GDhar', 'black_rating': 1330, 'black_result': 'win', 'black_bool': 1.0, 'eco_code': 'C44', 'eco_name': 'Scotch-Game', 'pgn_score': \"['1.', 'e4', '1...', 'e5', '2.', 'Nf3', '2...', 'Nc6', '3.', 'd4', '3...', 'd6', '4.', 'c3', '4...', 'Nf6', '5.', 'Bg5', '5...', 'exd4', '6.', 'cxd4' ... (1227 characters truncated) ...  'Rgg4', '47.', 'a5', '47...', 'Ra4', '48.', 'Ke3', '48...', 'Ra3+', '49.', 'Kf2', '49...', 'Rb4', '50.', 'Kf1', '50...', 'Rb2', '51.', 'Kg1', '0-1']\", 'pgn_string': '1. e4 1... e5 2. Nf3 2... Nc6 3. d4 3... d6 4. c3 4... Nf6 5. Bg5 5... exd4 6. cxd4 6... d5 7. e5 7... h6 8. Bxf6 8... gxf6 9. Bb5 9... Bd7 10. Bxc6  ... (618 characters truncated) ... ... Rg7+ 44. Kf3 44... Bxd6 45. Ke3 45... Be7 46. Kd3 46... Rgg4 47. a5 47... Ra4 48. Ke3 48... Ra3+ 49. Kf2 49... Rb4 50. Kf1 50... Rb2 51. Kg1 0-1 ', 'url': 'https://www.chess.com/live/game/332758116'}, {'date': '2012-07-22', 'time': '16:07:03', 'time_control': '1800', 'white_name': 'jsteele619', 'white_rating': 1106, 'white_result': 'resigned', 'white_bool': 0.0, 'black_name': 'NaturalBornKiller_94', 'black_rating': 1355, 'black_result': 'win', 'black_bool': 1.0, 'eco_code': 'B10', 'eco_name': 'Caro-Kann-Defense-Breyer-Variation-2...d5', 'pgn_score': \"['1.', 'e4', '1...', 'c6', '2.', 'd3', '2...', 'd5', '3.', 'f3', '3...', 'dxe4', '4.', 'fxe4', '4...', 'e5', '5.', 'Nf3', '5...', 'Bg4', '6.', 'Be2', ... (791 characters truncated) ... , '32...', 'Nxb4', '33.', 'Ne7+', '33...', 'Kf8', '34.', 'Ng6+', '34...', 'hxg6', '35.', 'hxg6', '35...', 'Kg7', '36.', 'g4', '36...', 'Kxg6', '0-1']\", 'pgn_string': '1. e4 1... c6 2. d3 2... d5 3. f3 3... dxe4 4. fxe4 4... e5 5. Nf3 5... Bg4 6. Be2 6... Bc5 7. Nxe5 7... Bxe2 8. Qxe2 8... Qf6 9. c3 9... Qxe5 10. d4 ... (356 characters truncated) ...  29... Ra3+ 30. Kf2 30... Nc5 31. Nxc6 31... Nd3+ 32. Kf1 32... Nxb4 33. Ne7+ 33... Kf8 34. Ng6+ 34... hxg6 35. hxg6 35... Kg7 36. g4 36... Kxg6 0-1 ', 'url': 'https://www.chess.com/live/game/332771264'}, {'date': '2012-07-22', 'time': '16:28:18', 'time_control': '1800', 'white_name': 'jsteele619', 'white_rating': 1052, 'white_result': 'abandoned', 'white_bool': 0.0, 'black_name': 'stevexp36', 'black_rating': 1177, 'black_result': 'win', 'black_bool': 1.0, 'eco_code': 'C41', 'eco_name': 'Philidor-Defense', 'pgn_score': \"['1.', 'e4', '1...', 'e5', '2.', 'Nf3', '2...', 'd6', '3.', 'b3', '3...', 'Bg4', '4.', 'Be2', '4...', 'Bxf3', '5.', 'Bxf3', '5...', 'Nf6', '6.', 'd4' ... (513 characters truncated) ... '23...', 'Qg5', '24.', 'hxg6', '24...', 'Rf3+', '25.', 'Kb1', '25...', 'Rxh3', '26.', 'Rxh3', '26...', 'Qxg2', '27.', 'Rxh7', '27...', 'Qxg6', '0-1']\", 'pgn_string': '1. e4 1... e5 2. Nf3 2... d6 3. b3 3... Bg4 4. Be2 4... Bxf3 5. Bxf3 5... Nf6 6. d4 6... exd4 7. Qxd4 7... Nc6 8. Qa4 8... Be7 9. Nc3 9... O-O 10. Nd ... (186 characters truncated) ... 0... Nxf2 21. Qf3 21... Nxh1 22. Rxh1 22... Rf4 23. Qh3 23... Qg5 24. hxg6 24... Rf3+ 25. Kb1 25... Rxh3 26. Rxh3 26... Qxg2 27. Rxh7 27... Qxg6 0-1 ', 'url': 'https://www.chess.com/live/game/332778647'}, {'date': '2012-07-23', 'time': '17:07:31', 'time_control': '1800', 'white_name': 'kencooper', 'white_rating': 1066, 'white_result': 'win', 'white_bool': 1.0, 'black_name': 'jsteele619', 'black_rating': 996, 'black_result': 'resigned', 'black_bool': 0.0, 'eco_code': 'C00', 'eco_name': 'French-Defense-Knight-Variation', 'pgn_score': \"['1.', 'e4', '1...', 'e6', '2.', 'Nf3', '2...', 'c6', '3.', 'd4', '3...', 'd5', '4.', 'e5', '4...', 'Ne7', '5.', 'Nc3', '5...', 'Nf5', '6.', 'Bd3', ' ... (90 characters truncated) ... , 'c5', '10.', 'axb4', '10...', 'cxb4', '11.', 'Ne2', '11...', 'Be7', '12.', 'Re1', '12...', 'f6', '13.', 'Ng3', '13...', 'g6', '14.', 'exf6', '1-0']\", 'pgn_string': '1. e4 1... e6 2. Nf3 2... c6 3. d4 3... d5 4. e5 4... Ne7 5. Nc3 5... Nf5 6. Bd3 6... Na6 7. O-O 7... Nb4 8. Bxf5 8... exf5 9. a3 9... c5 10. axb4 10... cxb4 11. Ne2 11... Be7 12. Re1 12... f6 13. Ng3 13... g6 14. exf6 1-0 ', 'url': 'https://www.chess.com/live/game/332791669'}, {'date': '2012-07-24', 'time': '12:50:52', 'time_control': '600', 'white_name': 'fox1000', 'white_rating': 1044, 'white_result': 'win', 'white_bool': 1.0, 'black_name': 'jsteele619', 'black_rating': 980, 'black_result': 'timeout', 'black_bool': 0.0, 'eco_code': 'A40', 'eco_name': 'Queens-Pawn-Opening-Horwitz-Defense', 'pgn_score': \"['1.', 'd4', '1...', 'e6', '2.', 'e3', '2...', 'g6', '3.', 'b3', '3...', 'Bg7', '4.', 'Bb2', '4...', 'd5', '5.', 'c4', '5...', 'c5', '6.', 'cxd5', '6 ... (499 characters truncated) ... c8', '23.', 'Rxc8', '23...', 'Rxc8', '24.', 'Kf2', '24...', 'Rc5', '25.', 'Nb7', '25...', 'Rb5', '26.', 'Nd6', '26...', 'Rxb3', '27.', 'Qxb3', '1-0']\", 'pgn_string': '1. d4 1... e6 2. e3 2... g6 3. b3 3... Bg7 4. Bb2 4... d5 5. c4 5... c5 6. cxd5 6... exd5 7. dxc5 7... Qa5+ 8. Nc3 8... Bxc3+ 9. Bxc3 9... Qxc3+ 10.  ... (178 characters truncated) ... f8 20. Bxa6 20... bxa6 21. Nb7 21... Kg7 22. Nxa5 22... Rac8 23. Rxc8 23... Rxc8 24. Kf2 24... Rc5 25. Nb7 25... Rb5 26. Nd6 26... Rxb3 27. Qxb3 1-0 ', 'url': 'https://www.chess.com/live/game/333774439'}  ... displaying 10 of 13675 total bound parameter sets ...  {'date': '2020-12-18', 'time': '15:23:23', 'time_control': '180', 'white_name': 'AndradeCorrea', 'white_rating': 2024, 'white_result': 'resigned', 'white_bool': 0.0, 'black_name': 'jsteele619', 'black_rating': 2093, 'black_result': 'win', 'black_bool': 1.0, 'eco_code': 'D00', 'eco_name': 'Queens-Pawn-Opening-1...d5-2.e3', 'pgn_score': \"['1.', 'd4', '1...', 'd5', '2.', 'e3', '2...', 'c6', '3.', 'Bd3', '3...', 'Nf6', '4.', 'f4', '4...', 'Bg4', '5.', 'Nf3', '5...', 'e6', '6.', 'Nbd2',  ... (1111 characters truncated) ... Rd3', '43...', 'e2', '44.', 'Rd5+', '44...', 'Kc4', '45.', 'Re5', '45...', 'f3', '46.', 'Kf5', '46...', 'f2', '47.', 'Rxe2', '47...', 'f1=Q+', '0-1']\", 'pgn_string': '1. d4 1... d5 2. e3 2... c6 3. Bd3 3... Nf6 4. f4 4... Bg4 5. Nf3 5... e6 6. Nbd2 6... Nbd7 7. O-O 7... g6 8. Qe1 8... c5 9. c3 9... Qc7 10. Ne5 10.. ... (544 characters truncated) ... + 40. Kg7 40... e4 41. Kxf7 41... f4 42. Ke6 42... e3 43. Rd3 43... e2 44. Rd5+ 44... Kc4 45. Re5 45... f3 46. Kf5 46... f2 47. Rxe2 47... f1=Q+ 0-1 ', 'url': 'https://www.chess.com/live/game/6001472187'}, {'date': '2020-12-19', 'time': '16:04:33', 'time_control': '180', 'white_name': 'jsteele619', 'white_rating': 2102, 'white_result': 'win', 'white_bool': 1.0, 'black_name': 'rlybadatchess888', 'black_rating': 2132, 'black_result': 'timeout', 'black_bool': 0.0, 'eco_code': 'E61', 'eco_name': 'Kings-Indian-Defense-3.Nc3-d6', 'pgn_score': \"['1.', 'd4', '1...', 'Nf6', '2.', 'c4', '2...', 'g6', '3.', 'Nc3', '3...', 'd6', '4.', 'e4', '4...', 'Bg7', '5.', 'Bd3', '5...', 'O-O', '6.', 'Nge2', ... (637 characters truncated) ... xa5', '28.', 'Nc3', '28...', 'Rg2+', '29.', 'Kh1', '29...', 'Qg5', '30.', 'Bf6', '30...', 'Qa5', '31.', 'Qxd6', '31...', 'Re2', '32.', 'Qb8+', '1-0']\", 'pgn_string': '1. d4 1... Nf6 2. c4 2... g6 3. Nc3 3... d6 4. e4 4... Bg7 5. Bd3 5... O-O 6. Nge2 6... c5 7. d5 7... e6 8. f3 8... exd5 9. cxd5 9... Na6 10. a3 10.. ... (256 characters truncated) ... . b3 25. Bd4 25... Rxe2 26. Bxg7 26... Nf4 27. Qd4 27... Qxa5 28. Nc3 28... Rg2+ 29. Kh1 29... Qg5 30. Bf6 30... Qa5 31. Qxd6 31... Re2 32. Qb8+ 1-0 ', 'url': 'https://www.chess.com/live/game/6001706764'})]\n(Background on this error at: http://sqlalche.me/e/13/f405)"
     ]
    }
   ],
   "source": [
    "master_df.to_sql('chess', engine, if_exists='append')"
   ]
  },
  {
   "cell_type": "code",
   "execution_count": 5,
   "metadata": {},
   "outputs": [
    {
     "ename": "SyntaxError",
     "evalue": "invalid syntax (<ipython-input-5-090c36626663>, line 3)",
     "output_type": "error",
     "traceback": [
      "\u001b[0;36m  File \u001b[0;32m\"<ipython-input-5-090c36626663>\"\u001b[0;36m, line \u001b[0;32m3\u001b[0m\n\u001b[0;31m    DROP TABLE \"chess\";\u001b[0m\n\u001b[0m             ^\u001b[0m\n\u001b[0;31mSyntaxError\u001b[0m\u001b[0;31m:\u001b[0m invalid syntax\n"
     ]
    }
   ],
   "source": [
    "#SQL CODE to create table\n",
    "\n",
    "\n",
    "table_code =\n",
    "\n",
    "\"DROP TABLE \"chess\";\n",
    "\n",
    "CREATE TABLE \"chess\" (\n",
    "\t\"date\" date,\n",
    "\t\"time\" varchar(40),\n",
    "\t\"time_control\" int(10),\n",
    "\t\"white_name\" varchar(40),\n",
    "\t\"white_rating\" int,\n",
    "\t\"white_result\" varchar(40),\n",
    "\t\"white_bool\" float,    \n",
    "\t\"black_name\" varchar(40),\n",
    "\t\"black_rating\" int,\n",
    "\t\"black_result\" varchar(40),\n",
    "\t\"black_bool\" float,\n",
    "\t\"eco_code\" varchar(10),\n",
    "\t\"eco_name\" varchar(250),\n",
    "\t\"pgn_score\" varchar(5000),\n",
    "\t\"pgn_string\" varchar(5000),    \n",
    "\t\"url\" varchar(750));\n",
    "\n",
    "\n",
    "\n",
    "\n",
    "black_e4 = \"select count(pgn_string), substr(pgn_string, 1, 15) as sub \\\n",
    "from chess \\\n",
    "where black_name = 'jsteele619' \\\n",
    "and pgn_string like '1. e4%' \\\n",
    "group by sub \\\n",
    "order by count(pgn_string) desc\""
   ]
  },
  {
   "cell_type": "code",
   "execution_count": null,
   "metadata": {},
   "outputs": [],
   "source": [
    "# Finding a game I won using the Caro Kann as black\n",
    "\n",
    "select * from chess\n",
    "where black_name = 'jsteele619' and black_result = 'win' and black_rating >= 1900\n",
    "and eco_name like '%Caro%'"
   ]
  },
  {
   "cell_type": "code",
   "execution_count": null,
   "metadata": {},
   "outputs": [],
   "source": [
    "# Finding white and black win percentage\n",
    "\n",
    "select sum(white_bool), count(white_bool), cast(sum(white_bool) as float) / cast(count(white_bool) as float) from chess\n",
    "where white_name = 'jsteele619'\n",
    "\n",
    "select sum(black_bool), count(black_bool), cast(sum(black_bool) as float) / cast(count(black_bool) as float) from chess\n",
    "where black_name = 'jsteele619'"
   ]
  },
  {
   "cell_type": "code",
   "execution_count": null,
   "metadata": {},
   "outputs": [],
   "source": [
    "# Finding how many games I've played the King's Indian\n",
    "\n",
    "select count(black_result), black_result from chess\n",
    "where black_name = 'jsteele619' \n",
    "and eco_name like '%King%'\n",
    "group by \"black_result\""
   ]
  },
  {
   "cell_type": "code",
   "execution_count": null,
   "metadata": {},
   "outputs": [],
   "source": [
    "# Finding my results from the black side of the Ruy Lopez\n",
    "\n",
    "select eco_name, sum(black_bool), count(black_bool), cast(sum(black_bool) as float) / cast(count(black_bool) as float) as result1 from chess\n",
    "where black_name = 'jsteele619' and eco_name like '%Ruy%'\n",
    "group by eco_name\n",
    "order by result1 desc"
   ]
  },
  {
   "cell_type": "code",
   "execution_count": null,
   "metadata": {},
   "outputs": [],
   "source": [
    "# Finding my white results from the Sicilian\n",
    "\n",
    "select eco_code, sum(white_bool), count(white_bool), cast(sum(white_bool) as float) / cast(count(white_bool) as float) as result1 from chess\n",
    "where white_name = 'jsteele619' and eco_name like '%Sicil%'\n",
    "group by eco_code\n",
    "order by count desc"
   ]
  },
  {
   "cell_type": "code",
   "execution_count": null,
   "metadata": {},
   "outputs": [],
   "source": [
    "# Percent of games won when playing e5 as black with higher rated opponent\n",
    "\n",
    "select sum(black_bool), count(black_bool), cast(sum(black_bool) as float) / cast(count(black_bool) as float) as percentage from chess\n",
    "where black_name = 'jsteele619' and pgn_string like '1. e4 1... e5%'\n",
    "and black_rating < white_rating"
   ]
  },
  {
   "cell_type": "code",
   "execution_count": 26,
   "metadata": {},
   "outputs": [],
   "source": [
    "# Using SQL within Python to find Results by White's Opening Move\n",
    "\n",
    "white_e4_sql = \"select white_bool, count(white_bool) from chess \\\n",
    "where white_name = 'jsteele619' \\\n",
    "and pgn_string like '1. e4%' \\\n",
    "group by white_bool;\"\n",
    "\n",
    "white_e4 = pd.read_sql(white_e4_sql, connection)\n",
    "\n",
    "white_d4_sql = \"select white_bool, count(white_bool) from chess \\\n",
    "where white_name = 'jsteele619' \\\n",
    "and pgn_string like '1. d4%' \\\n",
    "group by white_bool;\"\n",
    "\n",
    "white_d4 = pd.read_sql(white_d4_sql, connection)\n",
    "\n",
    "white_c4_sql = \"select white_bool, count(white_bool) from chess \\\n",
    "where white_name = 'jsteele619' \\\n",
    "and pgn_string like '1. c4%' \\\n",
    "group by white_bool;\"\n",
    "\n",
    "white_c4 = pd.read_sql(white_c4_sql, connection)\n",
    "\n",
    "white_Nf3_sql = \"select white_bool, count(white_bool) from chess \\\n",
    "where white_name = 'jsteele619' \\\n",
    "and pgn_string like '1. Nf3%' \\\n",
    "group by white_bool;\"\n",
    "\n",
    "white_Nf3 = pd.read_sql(white_Nf3_sql, connection)\n",
    "\n",
    "white_all = \"select count(pgn_string), substr(pgn_string, 1, 6) as sub \\\n",
    "from chess \\\n",
    "where white_name = 'jsteele619' \\\n",
    "group by sub \\\n",
    "order by count(pgn_string) desc\"\n",
    "\n",
    "white_openings = pd.read_sql(white_all, connection)"
   ]
  },
  {
   "cell_type": "code",
   "execution_count": 111,
   "metadata": {},
   "outputs": [],
   "source": [
    "# Using SQL within Python to find Results by Black's Opening Reply\n",
    "\n",
    "black_e4 = \"select count(pgn_string), substr(pgn_string, 1, 15) as sub \\\n",
    "from chess \\\n",
    "where black_name = 'jsteele619' \\\n",
    "and pgn_string like '1. e4%' \\\n",
    "group by sub \\\n",
    "order by count(pgn_string) desc\"\n",
    "\n",
    "black_against_e4 = pd.read_sql(black_e4, connection)\n",
    "\n",
    "black_d4 = \"select count(pgn_string), substr(pgn_string, 1, 15) as sub \\\n",
    "from chess \\\n",
    "where black_name = 'jsteele619' \\\n",
    "and pgn_string like '1. d4%' \\\n",
    "group by sub \\\n",
    "order by count(pgn_string) desc\"\n",
    "\n",
    "black_against_d4 = pd.read_sql(black_d4, connection)\n",
    "\n",
    "black_d4_sql = \"select black_bool, count(black_bool) from chess \\\n",
    "where black_name = 'jsteele619' \\\n",
    "and pgn_string like '1. d4%' \\\n",
    "group by black_bool;\"\n",
    "\n",
    "black_sicilian = \"select black_bool, count(black_bool) from chess \\\n",
    "where black_name = 'jsteele619' \\\n",
    "and pgn_string like '1. e4 1... c5 2%' \\\n",
    "group by black_bool;\"\n",
    "\n",
    "black_sicilian = pd.read_sql(black_sicilian, connection)\n",
    "\n",
    "black_italian = \"select black_bool, count(black_bool) from chess \\\n",
    "where black_name = 'jsteele619' \\\n",
    "and pgn_string like '1. e4 1... e5 2%' \\\n",
    "group by black_bool;\"\n",
    "\n",
    "black_italian = pd.read_sql(black_italian, connection)\n",
    "\n",
    "black_caro = \"select black_bool, count(black_bool) from chess \\\n",
    "where black_name = 'jsteele619' \\\n",
    "and pgn_string like '1. e4 1... c6 2%' \\\n",
    "group by black_bool;\"\n",
    "\n",
    "black_caro = pd.read_sql(black_caro, connection)\n",
    "\n",
    "black_french = \"select black_bool, count(black_bool) from chess \\\n",
    "where black_name = 'jsteele619' \\\n",
    "and pgn_string like '1. e4 1... e6 2%' \\\n",
    "group by black_bool;\"\n",
    "\n",
    "black_french = pd.read_sql(black_french, connection)\n",
    "\n",
    "\n",
    "black_indian = \"select black_bool, count(black_bool) from chess \\\n",
    "where black_name = 'jsteele619' \\\n",
    "and pgn_string like '1. d4 1... Nf6%' \\\n",
    "group by black_bool;\"\n",
    "\n",
    "black_indian = pd.read_sql(black_indian, connection)\n",
    "\n",
    "black_queens = \"select black_bool, count(black_bool) from chess \\\n",
    "where black_name = 'jsteele619' \\\n",
    "and pgn_string like '1. d4 1... d5%' \\\n",
    "group by black_bool;\"\n",
    "\n",
    "black_queens = pd.read_sql(black_queens, connection)"
   ]
  },
  {
   "cell_type": "code",
   "execution_count": 112,
   "metadata": {},
   "outputs": [
    {
     "name": "stdout",
     "output_type": "stream",
     "text": [
      "Stored 'white_openings' (DataFrame)\n",
      "Stored 'white_e4' (DataFrame)\n",
      "Stored 'white_d4' (DataFrame)\n",
      "Stored 'white_c4' (DataFrame)\n",
      "Stored 'white_Nf3' (DataFrame)\n",
      "Stored 'black_against_e4' (DataFrame)\n",
      "Stored 'black_against_d4' (DataFrame)\n",
      "Stored 'black_sicilian' (DataFrame)\n",
      "Stored 'black_italian' (DataFrame)\n",
      "Stored 'black_caro' (DataFrame)\n",
      "Stored 'black_french' (DataFrame)\n",
      "Stored 'black_indian' (DataFrame)\n",
      "Stored 'black_queens' (DataFrame)\n"
     ]
    }
   ],
   "source": [
    "#Standardizing order and storing variable for global use\n",
    "\n",
    "white_Nf3 = white_Nf3.sort_values(['white_bool'], ascending=False)\n",
    "white_c4 = white_c4.sort_values(['white_bool'], ascending=False)\n",
    "white_d4 = white_d4.sort_values(['white_bool'], ascending=False)\n",
    "white_e4 = white_e4.sort_values(['white_bool'], ascending=False)\n",
    "\n",
    "black_sicilian = black_sicilian.sort_values(['black_bool'], ascending=False)\n",
    "black_italian = black_italian.sort_values(['black_bool'], ascending=False)\n",
    "black_caro = black_caro.sort_values(['black_bool'], ascending=False)\n",
    "black_french = black_french.sort_values(['black_bool'], ascending=False)\n",
    "black_indian = black_indian.sort_values(['black_bool'], ascending=False)\n",
    "black_queens = black_queens.sort_values(['black_bool'], ascending=False)\n",
    "\n",
    "%store white_openings\n",
    "%store white_e4\n",
    "%store white_d4\n",
    "%store white_c4\n",
    "%store white_Nf3\n",
    "\n",
    "%store black_against_e4\n",
    "%store black_against_d4\n",
    "%store black_sicilian\n",
    "%store black_italian\n",
    "%store black_caro\n",
    "%store black_french\n",
    "%store black_indian\n",
    "%store black_queens"
   ]
  },
  {
   "cell_type": "code",
   "execution_count": null,
   "metadata": {},
   "outputs": [],
   "source": []
  }
 ],
 "metadata": {
  "kernelspec": {
   "display_name": "Python 3",
   "language": "python",
   "name": "python3"
  },
  "language_info": {
   "codemirror_mode": {
    "name": "ipython",
    "version": 3
   },
   "file_extension": ".py",
   "mimetype": "text/x-python",
   "name": "python",
   "nbconvert_exporter": "python",
   "pygments_lexer": "ipython3",
   "version": "3.7.7"
  }
 },
 "nbformat": 4,
 "nbformat_minor": 4
}
