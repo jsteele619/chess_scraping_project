{
 "cells": [
  {
   "cell_type": "code",
   "execution_count": 1,
   "metadata": {},
   "outputs": [],
   "source": [
    "#Importing Dependencies\n",
    "\n",
    "import pandas as pd\n",
    "import numpy as np\n",
    "import requests\n",
    "from pprint import pprint\n",
    "import matplotlib.pyplot as plt\n",
    "import json\n",
    "import re\n",
    "from datetime import datetime \n",
    "from datetime import time\n",
    "from pytz import timezone\n",
    "import pytz\n",
    "\n",
    "#openings = pd.read_csv(\"chess_openings.csv\")"
   ]
  },
  {
   "cell_type": "code",
   "execution_count": 2,
   "metadata": {},
   "outputs": [],
   "source": [
    "#Stating Url and Username\n",
    "\n",
    "url = \"https://api.chess.com/pub/player/\"\n",
    "name = \"jsteele619\""
   ]
  },
  {
   "cell_type": "code",
   "execution_count": 3,
   "metadata": {},
   "outputs": [],
   "source": [
    "# For Loop to collect all the months that contain archives (API comes in url form)\n",
    "query = f\"{url}{name}/games/archives\"\n",
    "for queries in query:\n",
    "    archives = requests.get(query).json()"
   ]
  },
  {
   "cell_type": "code",
   "execution_count": 4,
   "metadata": {},
   "outputs": [
    {
     "data": {
      "text/plain": [
       "102"
      ]
     },
     "execution_count": 4,
     "metadata": {},
     "output_type": "execute_result"
    }
   ],
   "source": [
    "len(archives['archives'])"
   ]
  },
  {
   "cell_type": "code",
   "execution_count": 5,
   "metadata": {},
   "outputs": [],
   "source": [
    "#Looping to get all the games in all the archives, still sorted by archive \n",
    "\n",
    "all_the_games = []\n",
    "\n",
    "for archive in archives['archives']:\n",
    "    total_games = requests.get(archive).json()\n",
    "    all_the_games.append(total_games)"
   ]
  },
  {
   "cell_type": "code",
   "execution_count": 6,
   "metadata": {},
   "outputs": [],
   "source": [
    "#Finding the number of games in each of archive (needed for For Loop)\n",
    "number_games = [] \n",
    "\n",
    "for x in range(len(archives['archives'])):\n",
    "    number = len(all_the_games[x]['games'])\n",
    "    number_games.append(number)"
   ]
  },
  {
   "cell_type": "code",
   "execution_count": 7,
   "metadata": {},
   "outputs": [],
   "source": [
    "# Getting a useable list of games to For Loop\n",
    "chess_games = []\n",
    "\n",
    "for y in range(101):\n",
    "    soup = all_the_games[y]['games']\n",
    "    chess_games.append(soup)"
   ]
  },
  {
   "cell_type": "code",
   "execution_count": 8,
   "metadata": {},
   "outputs": [
    {
     "data": {
      "text/plain": [
       "13441"
      ]
     },
     "execution_count": 8,
     "metadata": {},
     "output_type": "execute_result"
    }
   ],
   "source": [
    "# Using zipped For Loop to append all games to one list\n",
    "\n",
    "zipper = zip(range(101), number_games)\n",
    "    \n",
    "total_games = []\n",
    "for x, b in zipper:\n",
    "    tots = chess_games[x]\n",
    "    for y in range(b):\n",
    "        total = tots[y]\n",
    "        total_games.append(total)\n",
    "\n",
    "len(total_games)"
   ]
  },
  {
   "cell_type": "code",
   "execution_count": 9,
   "metadata": {},
   "outputs": [],
   "source": [
    "# CODE BREAK"
   ]
  },
  {
   "cell_type": "code",
   "execution_count": 10,
   "metadata": {},
   "outputs": [
    {
     "data": {
      "text/plain": [
       "{'url': 'https://www.chess.com/live/game/5859245093',\n",
       " 'pgn': '[Event \"Live Chess\"]\\n[Site \"Chess.com\"]\\n[Date \"2020.12.01\"]\\n[Round \"-\"]\\n[White \"jsteele619\"]\\n[Black \"chicomaster\"]\\n[Result \"1-0\"]\\n[CurrentPosition \"8/3k2p1/2n2p2/p1BN4/6PP/8/P4P2/6K1 b - -\"]\\n[Timezone \"UTC\"]\\n[ECO \"B27\"]\\n[ECOUrl \"https://www.chess.com/openings/Sicilian-Defense-2.Nf3\"]\\n[UTCDate \"2020.12.01\"]\\n[UTCTime \"04:38:24\"]\\n[WhiteElo \"2100\"]\\n[BlackElo \"2075\"]\\n[TimeControl \"300\"]\\n[Termination \"jsteele619 won by resignation\"]\\n[StartTime \"04:38:24\"]\\n[EndDate \"2020.12.01\"]\\n[EndTime \"04:44:25\"]\\n[Link \"https://www.chess.com/live/game/5859245093\"]\\n\\n1. Nf3 {[%clk 0:04:56]} 1... c5 {[%clk 0:04:58.3]} 2. e4 {[%clk 0:04:53.7]} 2... Nc6 {[%clk 0:04:57.4]} 3. d4 {[%clk 0:04:48]} 3... cxd4 {[%clk 0:04:53]} 4. Nxd4 {[%clk 0:04:47.4]} 4... Nf6 {[%clk 0:04:52.2]} 5. Nc3 {[%clk 0:04:46.2]} 5... e5 {[%clk 0:04:51.3]} 6. Nf3 {[%clk 0:04:44]} 6... Bb4 {[%clk 0:04:49.9]} 7. Bd3 {[%clk 0:04:38.3]} 7... d5 {[%clk 0:04:48.7]} 8. exd5 {[%clk 0:04:31.5]} 8... Qxd5 {[%clk 0:04:47.6]} 9. O-O {[%clk 0:04:29.3]} 9... Bxc3 {[%clk 0:04:45.3]} 10. bxc3 {[%clk 0:04:28.5]} 10... e4 {[%clk 0:04:44.4]} 11. Re1 {[%clk 0:04:26]} 11... O-O {[%clk 0:04:43.5]} 12. c4 {[%clk 0:04:21.4]} 12... Qd8 {[%clk 0:04:31.1]} 13. Bxe4 {[%clk 0:03:39.9]} 13... Qxd1 {[%clk 0:04:26.2]} 14. Bxh7+ {[%clk 0:03:39.4]} 14... Kxh7 {[%clk 0:04:24.5]} 15. Rxd1 {[%clk 0:03:39.3]} 15... Bf5 {[%clk 0:04:17.5]} 16. Bb2 {[%clk 0:03:38.5]} 16... Ne4 {[%clk 0:04:06.9]} 17. Rd5 {[%clk 0:03:32.6]} 17... Bg6 {[%clk 0:03:53]} 18. Re1 {[%clk 0:03:29.7]} 18... Rad8 {[%clk 0:03:42.5]} 19. Rxe4 {[%clk 0:03:22.3]} 19... Bxe4 {[%clk 0:03:31.4]} 20. Ng5+ {[%clk 0:03:21.3]} 20... Kg6 {[%clk 0:03:29.7]} 21. Nxe4 {[%clk 0:03:20.4]} 21... Rxd5 {[%clk 0:03:28.1]} 22. cxd5 {[%clk 0:03:19.7]} 22... Nb4 {[%clk 0:03:25.4]} 23. d6 {[%clk 0:03:13.4]} 23... Nxc2 {[%clk 0:03:23.8]} 24. Nc5 {[%clk 0:02:53.3]} 24... b6 {[%clk 0:03:14.1]} 25. Nb7 {[%clk 0:02:49.4]} 25... Nb4 {[%clk 0:03:12]} 26. Ba3 {[%clk 0:02:35.6]} 26... Nc6 {[%clk 0:03:11.1]} 27. d7 {[%clk 0:02:32.3]} 27... Rb8 {[%clk 0:03:08.5]} 28. Nd6 {[%clk 0:02:30.1]} 28... Rd8 {[%clk 0:03:01.9]} 29. Nc4 {[%clk 0:02:24.5]} 29... Rxd7 {[%clk 0:02:59.2]} 30. h4 {[%clk 0:02:23.4]} 30... b5 {[%clk 0:02:51.9]} 31. Ne3 {[%clk 0:02:22.2]} 31... a5 {[%clk 0:02:50.5]} 32. Bc5 {[%clk 0:02:19.6]} 32... f6 {[%clk 0:02:47.9]} 33. g4 {[%clk 0:02:18.9]} 33... Rd2 {[%clk 0:02:42.8]} 34. Nf5 {[%clk 0:02:17.8]} 34... Kf7 {[%clk 0:02:39.8]} 35. Nd6+ {[%clk 0:02:15.8]} 35... Ke6 {[%clk 0:02:36.5]} 36. Nxb5 {[%clk 0:02:08.3]} 36... Rd5 {[%clk 0:02:35.4]} 37. Nc7+ {[%clk 0:02:07.5]} 37... Kd7 {[%clk 0:02:24.4]} 38. Nxd5 {[%clk 0:02:05.1]} 1-0',\n",
       " 'time_control': '300',\n",
       " 'end_time': 1606797865,\n",
       " 'rated': True,\n",
       " 'fen': '8/3k2p1/2n2p2/p1BN4/6PP/8/P4P2/6K1 b - -',\n",
       " 'time_class': 'blitz',\n",
       " 'rules': 'chess',\n",
       " 'white': {'rating': 2100,\n",
       "  'result': 'win',\n",
       "  '@id': 'https://api.chess.com/pub/player/jsteele619',\n",
       "  'username': 'jsteele619'},\n",
       " 'black': {'rating': 2075,\n",
       "  'result': 'resigned',\n",
       "  '@id': 'https://api.chess.com/pub/player/chicomaster',\n",
       "  'username': 'chicomaster'}}"
      ]
     },
     "execution_count": 10,
     "metadata": {},
     "output_type": "execute_result"
    }
   ],
   "source": [
    "#Example result \n",
    "# comes in large string format which needs to be further parsed\n",
    "\n",
    "total_games[-1]"
   ]
  },
  {
   "cell_type": "code",
   "execution_count": 11,
   "metadata": {},
   "outputs": [],
   "source": [
    "# Creating fancy For Loop to loop through json data and append data lists\n",
    "\n",
    "url = []\n",
    "date = []\n",
    "time = []\n",
    "time_control = []\n",
    "\n",
    "white_name = []\n",
    "white_rating = []\n",
    "white_result = []\n",
    "\n",
    "black_name = []\n",
    "black_rating = []\n",
    "black_result = []\n",
    "\n",
    "eco_code = []\n",
    "eco_name = []\n",
    "\n",
    "for i in range(len(total_games)):\n",
    "    url1 = total_games[i]['url']\n",
    "    url.append(url1)\n",
    "    \n",
    "    date1 = total_games[i]['pgn'].split('\\n')[2].split(\" \")[1]\n",
    "    date1 = date1[:-2]\n",
    "    date1 = date1[1:]\n",
    "    date.append(date1)\n",
    "    \n",
    "    time1 = total_games[i]['pgn'].split('\\n')[12].split(\" \")[1]\n",
    "    time1 = time1[:-2]\n",
    "    time1 = time1[1:]\n",
    "    \n",
    "    if len(time1) == 8: \n",
    "        time1 = datetime.strptime(time1, '%H:%M:%S')\n",
    "        time.append(time1.time())\n",
    "    else:\n",
    "        time1 = (None)\n",
    "        time.append(time1)\n",
    "    \n",
    "    time_c = total_games[i]['time_control']\n",
    "    time_control.append(time_c)\n",
    "    \n",
    "    white1 = total_games[i]['white']['username']\n",
    "    white_name.append(white1)\n",
    "    \n",
    "    rating1 = total_games[i]['white']['rating']\n",
    "    white_rating.append(rating1)\n",
    "    \n",
    "    result1 = total_games[i]['white']['result']\n",
    "    white_result.append(result1)\n",
    "    \n",
    "    black1 = total_games[i]['black']['username']\n",
    "    black_name.append(black1)\n",
    "    \n",
    "    black2 = total_games[i]['black']['rating']\n",
    "    black_rating.append(black2)\n",
    "    \n",
    "    black3 = total_games[i]['black']['result']\n",
    "    black_result.append(black3)\n",
    "    \n",
    "    eco1 = re.sub(\"\\W\", \"\", total_games[i]['pgn'].split('\\n')[9].split(\" \")[1])\n",
    "    eco_code.append(eco1)\n",
    "    \n",
    "    try:\n",
    "        \n",
    "        eco2 = total_games[i]['pgn'].split('\\n')[10].split(\"/\")[4].split(\"]\")[0]\n",
    "        eco3 = eco2[:-1]\n",
    "        eco_name.append(eco3)\n",
    "    except:\n",
    "        eco_name.append(None)"
   ]
  },
  {
   "cell_type": "code",
   "execution_count": 12,
   "metadata": {},
   "outputs": [],
   "source": [
    "# Looking for length of \"pgn\" annotation per games to use in For Loop\n",
    "pgn_number = []\n",
    "for i in range(len(total_games)):\n",
    "    try:\n",
    "        pgn1 = len(total_games[i]['pgn'].split(\"\\n\")[22].split(\" \"))\n",
    "        pgn_number.append(pgn1)\n",
    "    except:\n",
    "        pgn_number.append(None)"
   ]
  },
  {
   "cell_type": "code",
   "execution_count": 13,
   "metadata": {},
   "outputs": [],
   "source": [
    "# Zip together length of total_games, and the number of pgn per game\n",
    "\n",
    "zipper = zip(range(len(total_games)), pgn_number)\n",
    "\n",
    "pgn_score = []\n",
    "pgn = []\n",
    "\n",
    "# Complicated For Loop which only appends the 1st, and 2nd element, \n",
    "# while skipping the 3rd and 4th\n",
    "\n",
    "for y, z in zipper:\n",
    "    total = total_games[y]\n",
    "    x = 0\n",
    "    pgn = []\n",
    "    \n",
    "    try:\n",
    "        for i in range(z):\n",
    "        \n",
    "            try:\n",
    "                x = x + 1\n",
    "        \n",
    "                if x == 1:\n",
    "                    pgn1 = total['pgn'].split(\"\\n\")[22].split(\" \")[i]\n",
    "                    pgn.append(pgn1)\n",
    "               \n",
    "                elif x == 2:\n",
    "                    pgn2 = total['pgn'].split(\"\\n\")[22].split(\" \")[i]\n",
    "                    pgn.append(pgn2)\n",
    "    \n",
    "                elif x == 3:\n",
    "                    pass\n",
    "    \n",
    "                else:\n",
    "                    x = 0\n",
    "        \n",
    "            except:\n",
    "                pgn_score.append(None)\n",
    "            \n",
    "        pgn_score.append(pgn)\n",
    "    except:\n",
    "        pgn_score.append(None)"
   ]
  },
  {
   "cell_type": "code",
   "execution_count": 14,
   "metadata": {},
   "outputs": [],
   "source": [
    "white_bool = []\n",
    "\n",
    "for x in range(len(white_result)):\n",
    "    if white_result[x] == \"win\":\n",
    "        y = 1\n",
    "        white_bool.append(y)\n",
    "    elif (white_result[x] == \"resigned\" or white_result[x] == \"timeout\" or white_result[x] == \"checkmated\" or white_result[x] == \"abandoned\"):\n",
    "        y = 0\n",
    "        white_bool.append(y)\n",
    "    else: \n",
    "        y = 0.5\n",
    "        white_bool.append(y)"
   ]
  },
  {
   "cell_type": "code",
   "execution_count": 15,
   "metadata": {},
   "outputs": [],
   "source": [
    "black_bool = []\n",
    "\n",
    "for x in range(len(white_result)):\n",
    "    if black_result[x] == \"win\":\n",
    "        y = 1\n",
    "        black_bool.append(y)\n",
    "    elif (black_result[x] == \"resigned\" or black_result[x] == \"timeout\" or black_result[x] == \"checkmated\" or black_result[x] == \"abandoned\"):\n",
    "        y = 0\n",
    "        black_bool.append(y)\n",
    "    else: \n",
    "        y = 0.5\n",
    "        black_bool.append(y)"
   ]
  },
  {
   "cell_type": "code",
   "execution_count": 16,
   "metadata": {},
   "outputs": [
    {
     "name": "stdout",
     "output_type": "stream",
     "text": [
      "1.\n",
      "c4\n",
      "1...\n",
      "Nf6\n",
      "2.\n",
      "Nc3\n",
      "2...\n",
      "e5\n",
      "3.\n",
      "Nf3\n",
      "3...\n",
      "Nc6\n",
      "4.\n",
      "d4\n",
      "4...\n",
      "exd4\n",
      "5.\n",
      "Nxd4\n",
      "5...\n",
      "Bc5\n",
      "6.\n",
      "Nb3\n",
      "6...\n",
      "Bb4\n",
      "7.\n",
      "f3\n",
      "7...\n",
      "O-O\n",
      "8.\n",
      "e4\n",
      "8...\n",
      "Nxe4\n",
      "9.\n",
      "fxe4\n",
      "9...\n",
      "Qh4+\n",
      "10.\n",
      "Kd2\n",
      "10...\n",
      "d6\n",
      "11.\n",
      "a3\n",
      "11...\n",
      "Bxc3+\n",
      "12.\n",
      "Kxc3\n",
      "12...\n",
      "Re8\n",
      "13.\n",
      "Bd3\n",
      "13...\n",
      "Ne5\n",
      "14.\n",
      "g4\n",
      "14...\n",
      "Bxg4\n",
      "15.\n",
      "Qe1\n",
      "15...\n",
      "Qf6\n",
      "16.\n",
      "Rf1\n",
      "16...\n",
      "Nf3+\n",
      "17.\n",
      "Kc2\n",
      "17...\n",
      "Nxe1+\n",
      "18.\n",
      "Rxe1\n",
      "18...\n",
      "Qf2+\n",
      "19.\n",
      "Bd2\n",
      "19...\n",
      "a5\n",
      "20.\n",
      "Nc1\n",
      "20...\n",
      "a4\n",
      "21.\n",
      "b4\n",
      "21...\n",
      "Re7\n",
      "22.\n",
      "Rf1\n",
      "22...\n",
      "Qxh2\n",
      "23.\n",
      "Rb1\n",
      "23...\n",
      "Rae8\n",
      "24.\n",
      "b5\n",
      "24...\n",
      "Rxe4\n",
      "25.\n",
      "Bxe4\n",
      "25...\n",
      "Rxe4\n",
      "26.\n",
      "Nd3\n",
      "26...\n",
      "Rxc4+\n",
      "27.\n",
      "Kb2\n",
      "27...\n",
      "Qxd2+\n",
      "28.\n",
      "Ka1\n",
      "28...\n",
      "Qxd3\n",
      "29.\n",
      "Rb2\n",
      "29...\n",
      "Qd4\n",
      "30.\n",
      "Re1\n",
      "30...\n",
      "Kf8\n",
      "31.\n",
      "Ka2\n",
      "31...\n",
      "Be6\n",
      "32.\n",
      "Rxe6\n",
      "32...\n",
      "fxe6\n",
      "33.\n",
      "b6\n",
      "33...\n",
      "c6\n",
      "34.\n",
      "Re2\n",
      "34...\n",
      "Ke7\n",
      "35.\n",
      "Kb1\n",
      "35...\n",
      "Qd1+\n",
      "36.\n",
      "Kb2\n",
      "36...\n",
      "Qxe2+\n",
      "0-1\n"
     ]
    }
   ],
   "source": [
    "#Example result of pgn_score (computer usable!)\n",
    "for pgn in pgn_score[12000]:\n",
    "    print(pgn)"
   ]
  },
  {
   "cell_type": "code",
   "execution_count": 17,
   "metadata": {},
   "outputs": [],
   "source": [
    "# Turning pgn into single string for SQL to parse\n",
    "\n",
    "pgn_string = []\n",
    "string1 = \"\"\n",
    "\n",
    "for x in range(len(pgn_score)):\n",
    "    string1 = \"\"\n",
    "    try:\n",
    "        pgn1 = pgn_score[x]\n",
    "       \n",
    "        for pgn in pgn1:\n",
    "            string1 += pgn + \" \"\n",
    "        \n",
    "        pgn_string.append(string1)\n",
    "    \n",
    "    except:\n",
    "        pgn_string.append(None)\n",
    "        \n",
    "       "
   ]
  },
  {
   "cell_type": "code",
   "execution_count": 18,
   "metadata": {},
   "outputs": [
    {
     "data": {
      "text/html": [
       "<div>\n",
       "<style scoped>\n",
       "    .dataframe tbody tr th:only-of-type {\n",
       "        vertical-align: middle;\n",
       "    }\n",
       "\n",
       "    .dataframe tbody tr th {\n",
       "        vertical-align: top;\n",
       "    }\n",
       "\n",
       "    .dataframe thead th {\n",
       "        text-align: right;\n",
       "    }\n",
       "</style>\n",
       "<table border=\"1\" class=\"dataframe\">\n",
       "  <thead>\n",
       "    <tr style=\"text-align: right;\">\n",
       "      <th></th>\n",
       "      <th>date</th>\n",
       "      <th>time</th>\n",
       "      <th>time_control</th>\n",
       "      <th>white_name</th>\n",
       "      <th>white_rating</th>\n",
       "      <th>white_result</th>\n",
       "      <th>white_bool</th>\n",
       "      <th>black_name</th>\n",
       "      <th>black_rating</th>\n",
       "      <th>black_result</th>\n",
       "      <th>black_bool</th>\n",
       "      <th>eco_code</th>\n",
       "      <th>eco_name</th>\n",
       "      <th>pgn_score</th>\n",
       "      <th>pgn_string</th>\n",
       "      <th>url</th>\n",
       "    </tr>\n",
       "  </thead>\n",
       "  <tbody>\n",
       "    <tr>\n",
       "      <th>0</th>\n",
       "      <td>2012.07.22</td>\n",
       "      <td>20:44:40</td>\n",
       "      <td>1800</td>\n",
       "      <td>jsteele619</td>\n",
       "      <td>1000</td>\n",
       "      <td>checkmated</td>\n",
       "      <td>0.0</td>\n",
       "      <td>kevin914</td>\n",
       "      <td>1200</td>\n",
       "      <td>win</td>\n",
       "      <td>1.0</td>\n",
       "      <td>C24</td>\n",
       "      <td>Bishops-Opening-Berlin-Defense-3.d3-d5</td>\n",
       "      <td>[1., e4, 1..., e5, 2., Bc4, 2..., Nf6, 3., d3,...</td>\n",
       "      <td>1. e4 1... e5 2. Bc4 2... Nf6 3. d3 3... d5 4....</td>\n",
       "      <td>https://www.chess.com/live/game/332713828</td>\n",
       "    </tr>\n",
       "    <tr>\n",
       "      <th>1</th>\n",
       "      <td>2012.07.22</td>\n",
       "      <td>21:36:00</td>\n",
       "      <td>1800</td>\n",
       "      <td>mupmilan</td>\n",
       "      <td>1043</td>\n",
       "      <td>resigned</td>\n",
       "      <td>0.0</td>\n",
       "      <td>jsteele619</td>\n",
       "      <td>1146</td>\n",
       "      <td>win</td>\n",
       "      <td>1.0</td>\n",
       "      <td>C50</td>\n",
       "      <td>Italian-Game</td>\n",
       "      <td>[1., e4, 1..., e5, 2., Nf3, 2..., Nc6, 3., Bc4...</td>\n",
       "      <td>1. e4 1... e5 2. Nf3 2... Nc6 3. Bc4 3... f6 4...</td>\n",
       "      <td>https://www.chess.com/live/game/332735999</td>\n",
       "    </tr>\n",
       "    <tr>\n",
       "      <th>2</th>\n",
       "      <td>2012.07.22</td>\n",
       "      <td>22:01:19</td>\n",
       "      <td>1800</td>\n",
       "      <td>Hoschemal</td>\n",
       "      <td>1133</td>\n",
       "      <td>checkmated</td>\n",
       "      <td>0.0</td>\n",
       "      <td>jsteele619</td>\n",
       "      <td>1251</td>\n",
       "      <td>win</td>\n",
       "      <td>1.0</td>\n",
       "      <td>C00</td>\n",
       "      <td>French-Defense-Normal-Variation</td>\n",
       "      <td>[1., d4, 1..., e6, 2., e4, 2..., c6, 3., e5, 3...</td>\n",
       "      <td>1. d4 1... e6 2. e4 2... c6 3. e5 3... g6 4. f...</td>\n",
       "      <td>https://www.chess.com/live/game/332746229</td>\n",
       "    </tr>\n",
       "    <tr>\n",
       "      <th>3</th>\n",
       "      <td>2012.07.22</td>\n",
       "      <td>22:31:54</td>\n",
       "      <td>1800</td>\n",
       "      <td>jsteele619</td>\n",
       "      <td>1177</td>\n",
       "      <td>resigned</td>\n",
       "      <td>0.0</td>\n",
       "      <td>GDhar</td>\n",
       "      <td>1330</td>\n",
       "      <td>win</td>\n",
       "      <td>1.0</td>\n",
       "      <td>C44</td>\n",
       "      <td>Scotch-Game</td>\n",
       "      <td>[1., e4, 1..., e5, 2., Nf3, 2..., Nc6, 3., d4,...</td>\n",
       "      <td>1. e4 1... e5 2. Nf3 2... Nc6 3. d4 3... d6 4....</td>\n",
       "      <td>https://www.chess.com/live/game/332758116</td>\n",
       "    </tr>\n",
       "    <tr>\n",
       "      <th>4</th>\n",
       "      <td>2012.07.22</td>\n",
       "      <td>23:07:03</td>\n",
       "      <td>1800</td>\n",
       "      <td>jsteele619</td>\n",
       "      <td>1106</td>\n",
       "      <td>resigned</td>\n",
       "      <td>0.0</td>\n",
       "      <td>NaturalBornKiller_94</td>\n",
       "      <td>1355</td>\n",
       "      <td>win</td>\n",
       "      <td>1.0</td>\n",
       "      <td>B10</td>\n",
       "      <td>Caro-Kann-Defense-Breyer-Variation-2...d5</td>\n",
       "      <td>[1., e4, 1..., c6, 2., d3, 2..., d5, 3., f3, 3...</td>\n",
       "      <td>1. e4 1... c6 2. d3 2... d5 3. f3 3... dxe4 4....</td>\n",
       "      <td>https://www.chess.com/live/game/332771264</td>\n",
       "    </tr>\n",
       "  </tbody>\n",
       "</table>\n",
       "</div>"
      ],
      "text/plain": [
       "         date      time time_control  white_name  white_rating white_result  \\\n",
       "0  2012.07.22  20:44:40         1800  jsteele619          1000   checkmated   \n",
       "1  2012.07.22  21:36:00         1800    mupmilan          1043     resigned   \n",
       "2  2012.07.22  22:01:19         1800   Hoschemal          1133   checkmated   \n",
       "3  2012.07.22  22:31:54         1800  jsteele619          1177     resigned   \n",
       "4  2012.07.22  23:07:03         1800  jsteele619          1106     resigned   \n",
       "\n",
       "   white_bool            black_name  black_rating black_result  black_bool  \\\n",
       "0         0.0              kevin914          1200          win         1.0   \n",
       "1         0.0            jsteele619          1146          win         1.0   \n",
       "2         0.0            jsteele619          1251          win         1.0   \n",
       "3         0.0                 GDhar          1330          win         1.0   \n",
       "4         0.0  NaturalBornKiller_94          1355          win         1.0   \n",
       "\n",
       "  eco_code                                   eco_name  \\\n",
       "0      C24     Bishops-Opening-Berlin-Defense-3.d3-d5   \n",
       "1      C50                               Italian-Game   \n",
       "2      C00            French-Defense-Normal-Variation   \n",
       "3      C44                                Scotch-Game   \n",
       "4      B10  Caro-Kann-Defense-Breyer-Variation-2...d5   \n",
       "\n",
       "                                           pgn_score  \\\n",
       "0  [1., e4, 1..., e5, 2., Bc4, 2..., Nf6, 3., d3,...   \n",
       "1  [1., e4, 1..., e5, 2., Nf3, 2..., Nc6, 3., Bc4...   \n",
       "2  [1., d4, 1..., e6, 2., e4, 2..., c6, 3., e5, 3...   \n",
       "3  [1., e4, 1..., e5, 2., Nf3, 2..., Nc6, 3., d4,...   \n",
       "4  [1., e4, 1..., c6, 2., d3, 2..., d5, 3., f3, 3...   \n",
       "\n",
       "                                          pgn_string  \\\n",
       "0  1. e4 1... e5 2. Bc4 2... Nf6 3. d3 3... d5 4....   \n",
       "1  1. e4 1... e5 2. Nf3 2... Nc6 3. Bc4 3... f6 4...   \n",
       "2  1. d4 1... e6 2. e4 2... c6 3. e5 3... g6 4. f...   \n",
       "3  1. e4 1... e5 2. Nf3 2... Nc6 3. d4 3... d6 4....   \n",
       "4  1. e4 1... c6 2. d3 2... d5 3. f3 3... dxe4 4....   \n",
       "\n",
       "                                         url  \n",
       "0  https://www.chess.com/live/game/332713828  \n",
       "1  https://www.chess.com/live/game/332735999  \n",
       "2  https://www.chess.com/live/game/332746229  \n",
       "3  https://www.chess.com/live/game/332758116  \n",
       "4  https://www.chess.com/live/game/332771264  "
      ]
     },
     "execution_count": 18,
     "metadata": {},
     "output_type": "execute_result"
    }
   ],
   "source": [
    "# Creating a master dataframe on the data I collected\n",
    "total_games_df = {\"date\": date, \"time\": time, \"time_control\": time_control, \"white_name\": white_name, \"white_rating\": white_rating,\n",
    "                 \"white_result\": white_result, \"white_bool\": white_bool, \"black_name\": black_name, \"black_rating\": black_rating, \n",
    "                 \"black_result\": black_result, \"black_bool\": black_bool, \"eco_code\": eco_code, \"eco_name\": eco_name, \"pgn_score\": pgn_score, \"pgn_string\": pgn_string, \"url\": url}\n",
    "\n",
    "the_master_df = pd.DataFrame(total_games_df)\n",
    "the_master_df.head()"
   ]
  },
  {
   "cell_type": "code",
   "execution_count": 19,
   "metadata": {},
   "outputs": [],
   "source": [
    "# Changing datatypes\n",
    "the_master_df['date'] = pd.to_datetime(the_master_df['date'])\n",
    "the_master_df = the_master_df.dropna()\n",
    "the_master_df['white_rating'] = the_master_df['white_rating'].astype(int)\n",
    "the_master_df['black_rating'] = the_master_df['black_rating'].astype(int)\n",
    "\n",
    "#No no no\n",
    "#the_master_df['white_bool'] = the_master_df['white_bool'].astype(int)\n",
    "#the_master_df['black_bool'] = the_master_df['black_bool'].astype(int)"
   ]
  },
  {
   "cell_type": "code",
   "execution_count": 20,
   "metadata": {},
   "outputs": [],
   "source": [
    "the_master_df.to_csv(\"csv_files/master_df.csv\", index=False)"
   ]
  },
  {
   "cell_type": "code",
   "execution_count": 21,
   "metadata": {},
   "outputs": [],
   "source": [
    "# BREAK"
   ]
  },
  {
   "cell_type": "code",
   "execution_count": 22,
   "metadata": {},
   "outputs": [
    {
     "data": {
      "text/plain": [
       "300         6402\n",
       "600         6346\n",
       "60           294\n",
       "180          283\n",
       "1800          30\n",
       "900+5         27\n",
       "180+2          9\n",
       "300+2          5\n",
       "1/86400        4\n",
       "300+5          3\n",
       "900            3\n",
       "1/604800       2\n",
       "1/259200       2\n",
       "120+1          1\n",
       "900+10         1\n",
       "120            1\n",
       "Name: time_control, dtype: int64"
      ]
     },
     "execution_count": 22,
     "metadata": {},
     "output_type": "execute_result"
    }
   ],
   "source": [
    "# Analysis\n",
    "the_master_df['white_result'].value_counts()\n",
    "the_master_df['time_control'].value_counts()"
   ]
  },
  {
   "cell_type": "code",
   "execution_count": 23,
   "metadata": {},
   "outputs": [],
   "source": [
    "#Creating dataframes for each color\n",
    "\n",
    "white_df = the_master_df.where(the_master_df['white_name'] == 'jsteele619')\n",
    "white_df = white_df.dropna()\n",
    "black_df = the_master_df.where(the_master_df['black_name'] == 'jsteele619')\n",
    "black_df = black_df.dropna()"
   ]
  },
  {
   "cell_type": "code",
   "execution_count": 24,
   "metadata": {},
   "outputs": [],
   "source": [
    "# Finding ratio of results for each color\n",
    "#white_list = the_master_df['white_bool'].where(the_master_df['white_name'] == 'jsteele619')\n",
    "#black_list = the_master_df['black_bool'].where(the_master_df['black_name'] == 'jsteele619')\n",
    "#black_list[0]/black_list.sum()\n",
    "#black_list[1]/black_list.sum()\n",
    "#black_list[0.5]/black_list.sum()\n",
    "#white_list[0]/white_list.sum()\n",
    "#white_list[1]/white_list.sum()\n",
    "#white_list[0.5]/white_list.sum()"
   ]
  },
  {
   "cell_type": "code",
   "execution_count": 25,
   "metadata": {},
   "outputs": [],
   "source": [
    "# Creating DF for each time control\n",
    "white_df5 = the_master_df.where(the_master_df['white_name'] == 'jsteele619').where(the_master_df['time_control'] == '300')\n",
    "black_df5 = the_master_df.where(the_master_df['black_name'] == 'jsteele619').where(the_master_df['time_control'] == '300')\n",
    "white_df10 = the_master_df.where(the_master_df['white_name'] == 'jsteele619').where(the_master_df['time_control'] == '600')\n",
    "black_df10 = the_master_df.where(the_master_df['black_name'] == 'jsteele619').where(the_master_df['time_control'] == '600')"
   ]
  },
  {
   "cell_type": "code",
   "execution_count": 26,
   "metadata": {},
   "outputs": [
    {
     "data": {
      "image/png": "[encoded data removed]",
      "text/plain": [
       "<Figure size 432x288 with 1 Axes>"
      ]
     },
     "metadata": {
      "needs_background": "light"
     },
     "output_type": "display_data"
    }
   ],
   "source": [
    "# Graphing Blitz Rating results by time control\n",
    "fig = plt.figure()\n",
    "ax = plt.axes()\n",
    "\n",
    "ax.plot(white_df5[\"date\"], white_df5[\"white_rating\"], label=\"5 mins per side\")\n",
    "ax.plot(white_df10[\"date\"], white_df10[\"white_rating\"], label=\"10 mins per side\", color='green')\n",
    "ax.plot(black_df5[\"date\"], black_df5[\"black_rating\"], label=\"10 mins per side\", color='blue')\n",
    "ax.plot(black_df10[\"date\"], black_df10[\"black_rating\"], label=\"10 mins per side\", color='green')\n",
    "\n",
    "ax.legend(loc=\"best\")\n",
    "plt.title(\"White Blitz Rating over Time\")\n",
    "plt.xlabel(\"Date\")\n",
    "plt.ylabel(\"Rating\")\n",
    "plt.savefig(\"graphs/whiteblitz.png\")\n",
    "plt.show()"
   ]
  },
  {
   "cell_type": "code",
   "execution_count": null,
   "metadata": {},
   "outputs": [],
   "source": []
  },
  {
   "cell_type": "code",
   "execution_count": 27,
   "metadata": {
    "scrolled": true
   },
   "outputs": [
    {
     "name": "stdout",
     "output_type": "stream",
     "text": [
      "Lengths of both lists: 13413 and 13413\n"
     ]
    }
   ],
   "source": [
    "#Getting the bins for graphing\n",
    "white_graph_time = []\n",
    "black_graph_time = []\n",
    "\n",
    "for time in white_df['time']:\n",
    "    white_graph_time.append(time.hour)  \n",
    "    \n",
    "for time in black_df['time']:\n",
    "    black_graph_time.append(time.hour)\n",
    "    \n",
    "#Getting the list of bool results for graphing\n",
    "    \n",
    "white_graph_bool = []\n",
    "black_graph_bool = []\n",
    "\n",
    "for bools in white_df['white_bool']:\n",
    "    white_graph_bool.append(bools)  \n",
    "    \n",
    "for bools in black_df['black_bool']:\n",
    "    black_graph_bool.append(bools)   \n",
    "    \n",
    "#Combining lists\n",
    "\n",
    "big_graph_time = white_graph_time + black_graph_time\n",
    "big_graph_bool = white_graph_bool + black_graph_bool\n",
    "\n",
    "print(f'Lengths of both lists: {len(big_graph_bool)} and {len(big_graph_time)}')"
   ]
  },
  {
   "cell_type": "code",
   "execution_count": 28,
   "metadata": {
    "scrolled": true
   },
   "outputs": [],
   "source": [
    "zipped = {\"big_graph_time\": big_graph_time, \"big_graph_bool\": big_graph_bool}\n",
    "zips = pd.DataFrame(zipped)"
   ]
  },
  {
   "cell_type": "code",
   "execution_count": 29,
   "metadata": {},
   "outputs": [],
   "source": [
    "#Creating list of frequency per result, per hour:\n",
    "zips1 = zips.where(zips['big_graph_bool'] == 1.0)\n",
    "zips5 = zips.where(zips['big_graph_bool'] == 0.5)\n",
    "zips0 = zips.where(zips['big_graph_bool'] == 0.0)\n",
    "zips1 = zips1.dropna()\n",
    "zips0 = zips0.dropna()\n",
    "zips5 = zips5.dropna()"
   ]
  },
  {
   "cell_type": "code",
   "execution_count": 30,
   "metadata": {},
   "outputs": [
    {
     "data": {
      "image/png": "[encoded data removed]",
      "text/plain": [
       "<Figure size 432x288 with 1 Axes>"
      ]
     },
     "metadata": {
      "needs_background": "light"
     },
     "output_type": "display_data"
    }
   ],
   "source": [
    "#Graphing wins per Time Hour\n",
    "N = 24\n",
    "ind = np.arange(N)\n",
    "bins = ind\n",
    "\n",
    "plt.hist(zips1['big_graph_time'], bins, width=0.8, label='Won', color='gold')\n",
    "\n",
    "plt.xticks(ind)\n",
    "plt.ylabel(\"Results\")\n",
    "plt.xlabel(\"Hours of the Day\")\n",
    "plt.legend(loc=\"best\")\n",
    "plt.title(\"Wins by Time of Day\")\n",
    "plt.savefig(\"graphs/winperhour.png\")\n",
    "\n",
    "plt.show()"
   ]
  },
  {
   "cell_type": "code",
   "execution_count": 31,
   "metadata": {},
   "outputs": [
    {
     "data": {
      "image/png": "[encoded data removed]",
      "text/plain": [
       "<Figure size 432x288 with 1 Axes>"
      ]
     },
     "metadata": {
      "needs_background": "light"
     },
     "output_type": "display_data"
    }
   ],
   "source": [
    "#Graphing draws per Time Hour\n",
    "N = 24\n",
    "ind = np.arange(N)\n",
    "bins = ind\n",
    "\n",
    "plt.hist(zips5['big_graph_time'], bins, width=0.8, label='draw', color='silver')\n",
    "\n",
    "plt.xticks(ind)\n",
    "plt.ylabel(\"Results\")\n",
    "plt.xlabel(\"Hours of the Day\")\n",
    "plt.legend(loc=\"best\")\n",
    "plt.title(\"Draws by Time of Day\")\n",
    "plt.savefig(\"graphs/drawperhour.png\")\n",
    "plt.show()"
   ]
  },
  {
   "cell_type": "code",
   "execution_count": 32,
   "metadata": {},
   "outputs": [
    {
     "data": {
      "image/png": "[encoded data removed]",
      "text/plain": [
       "<Figure size 432x288 with 1 Axes>"
      ]
     },
     "metadata": {
      "needs_background": "light"
     },
     "output_type": "display_data"
    }
   ],
   "source": [
    "#Graphing losses per Time Hour\n",
    "N = 24\n",
    "ind = np.arange(N)\n",
    "bins = ind\n",
    "\n",
    "plt.hist(zips0['big_graph_time'], bins, width=0.8, label='draw', color='#CD853F')\n",
    "\n",
    "plt.xticks(ind)\n",
    "plt.ylabel(\"Results\")\n",
    "plt.xlabel(\"Hours of the Day\")\n",
    "plt.legend(loc=\"best\")\n",
    "plt.title(\"Losses by Time of Day\")\n",
    "plt.savefig(\"graphs/lossperhour.png\")\n",
    "\n",
    "plt.show()"
   ]
  },
  {
   "cell_type": "code",
   "execution_count": 33,
   "metadata": {},
   "outputs": [
    {
     "data": {
      "image/png": "[encoded data removed]",
      "text/plain": [
       "<Figure size 432x288 with 1 Axes>"
      ]
     },
     "metadata": {
      "needs_background": "light"
     },
     "output_type": "display_data"
    }
   ],
   "source": [
    "# Comparison Wins and Losses\n",
    "\n",
    "N = 24\n",
    "ind = np.arange(N)\n",
    "bins = ind\n",
    "\n",
    "plt.hist(zips1['big_graph_time'], bins, width=0.8, label='Won', color='gold', stacked=True)\n",
    "plt.hist(zips5['big_graph_time'], bins, width=0.8, label='Draw', color='silver', stacked=True)\n",
    "plt.hist(zips0['big_graph_time'], bins, width=0.8, label='Lost', color='#CD853F', stacked=True)\n",
    "\n",
    "plt.ylabel(\"Results\")\n",
    "plt.xlabel(\"Hours of the Day\")\n",
    "plt.legend(loc=\"best\")\n",
    "plt.title(\"Result by Time of Day\")\n",
    "plt.savefig(\"graphs/comparisonperhour.png\")\n",
    "\n",
    "plt.show()"
   ]
  },
  {
   "cell_type": "code",
   "execution_count": 34,
   "metadata": {},
   "outputs": [
    {
     "data": {
      "image/png": "[encoded data removed]",
      "text/plain": [
       "<Figure size 432x288 with 1 Axes>"
      ]
     },
     "metadata": {
      "needs_background": "light"
     },
     "output_type": "display_data"
    }
   ],
   "source": [
    "#The Stacked Graph by hour\n",
    "N = 24\n",
    "ind = np.arange(N)\n",
    "bins = ind\n",
    "\n",
    "plt.hist([zips1['big_graph_time'], zips5['big_graph_time'], zips0['big_graph_time']], bins, color=['#CD853F', 'silver', 'gold'], label=['Won', 'Draw', 'Loss'], stacked=True)\n",
    "\n",
    "plt.ylabel(\"Results\")\n",
    "plt.xlabel(\"Stacked Graph by Time of Day\")\n",
    "plt.legend(loc=\"best\")\n",
    "plt.title(\"Result by Time of Day\")\n",
    "plt.savefig(\"graphs/stackedperhour.png\")\n",
    "\n",
    "plt.show()"
   ]
  },
  {
   "cell_type": "code",
   "execution_count": null,
   "metadata": {},
   "outputs": [],
   "source": []
  }
 ],
 "metadata": {
  "kernelspec": {
   "display_name": "Python 3",
   "language": "python",
   "name": "python3"
  },
  "language_info": {
   "codemirror_mode": {
    "name": "ipython",
    "version": 3
   },
   "file_extension": ".py",
   "mimetype": "text/x-python",
   "name": "python",
   "nbconvert_exporter": "python",
   "pygments_lexer": "ipython3",
   "version": "3.7.7"
  }
 },
 "nbformat": 4,
 "nbformat_minor": 4
}
