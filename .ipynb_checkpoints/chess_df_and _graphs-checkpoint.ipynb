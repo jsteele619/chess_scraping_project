{
 "cells": [
  {
   "cell_type": "code",
   "execution_count": 1,
   "metadata": {},
   "outputs": [],
   "source": [
    "#Importing Dependencies\n",
    "\n",
    "import pandas as pd\n",
    "import numpy as np\n",
    "import requests\n",
    "from pprint import pprint\n",
    "import matplotlib.pyplot as plt\n",
    "import json\n",
    "import re\n",
    "from datetime import datetime \n",
    "from datetime import time\n",
    "from pytz import timezone\n",
    "import pytz\n",
    "\n",
    "#openings = pd.read_csv(\"chess_openings.csv\")"
   ]
  },
  {
   "cell_type": "code",
   "execution_count": 2,
   "metadata": {},
   "outputs": [],
   "source": [
    "#Stating Url and Username\n",
    "\n",
    "url = \"https://api.chess.com/pub/player/\"\n",
    "name = \"dedaru\""
   ]
  },
  {
   "cell_type": "code",
   "execution_count": 3,
   "metadata": {},
   "outputs": [],
   "source": [
    "# For Loop to collect all the months that contain archives (API comes in url form)\n",
    "query = f\"{url}{name}/games/archives\"\n",
    "for queries in query:\n",
    "    archives = requests.get(query).json()"
   ]
  },
  {
   "cell_type": "code",
   "execution_count": 4,
   "metadata": {},
   "outputs": [
    {
     "data": {
      "text/plain": [
       "5"
      ]
     },
     "execution_count": 4,
     "metadata": {},
     "output_type": "execute_result"
    }
   ],
   "source": [
    "len(archives['archives'])"
   ]
  },
  {
   "cell_type": "code",
   "execution_count": 5,
   "metadata": {},
   "outputs": [],
   "source": [
    "#Looping to get all the games in all the archives, still sorted by archive \n",
    "\n",
    "all_the_games = []\n",
    "\n",
    "for archive in archives['archives']:\n",
    "    total_games = requests.get(archive).json()\n",
    "    all_the_games.append(total_games)"
   ]
  },
  {
   "cell_type": "code",
   "execution_count": 6,
   "metadata": {},
   "outputs": [],
   "source": [
    "#Finding the number of games in each of archive (needed for For Loop)\n",
    "number_games = [] \n",
    "\n",
    "for x in range(len(archives['archives'])):\n",
    "    number = len(all_the_games[x]['games'])\n",
    "    number_games.append(number)"
   ]
  },
  {
   "cell_type": "code",
   "execution_count": 7,
   "metadata": {},
   "outputs": [],
   "source": [
    "# Getting a useable list of games to For Loop\n",
    "chess_games = []\n",
    "\n",
    "for y in range(len(archives['archives'])):\n",
    "    soup = all_the_games[y]['games']\n",
    "    chess_games.append(soup)"
   ]
  },
  {
   "cell_type": "code",
   "execution_count": 8,
   "metadata": {},
   "outputs": [
    {
     "data": {
      "text/plain": [
       "1147"
      ]
     },
     "execution_count": 8,
     "metadata": {},
     "output_type": "execute_result"
    }
   ],
   "source": [
    "# Using zipped For Loop to append all games to one list\n",
    "\n",
    "zipper = zip(range(len(archives['archives'])), number_games)\n",
    "    \n",
    "total_games = []\n",
    "for x, b in zipper:\n",
    "    tots = chess_games[x]\n",
    "    for y in range(b):\n",
    "        total = tots[y]\n",
    "        total_games.append(total)\n",
    "\n",
    "len(total_games)"
   ]
  },
  {
   "cell_type": "code",
   "execution_count": 9,
   "metadata": {},
   "outputs": [],
   "source": [
    "# CODE BREAK"
   ]
  },
  {
   "cell_type": "code",
   "execution_count": 12,
   "metadata": {
    "scrolled": true
   },
   "outputs": [
    {
     "data": {
      "text/plain": [
       "1147"
      ]
     },
     "execution_count": 12,
     "metadata": {},
     "output_type": "execute_result"
    }
   ],
   "source": [
    "#Example result \n",
    "# comes in large string format which needs to be further parsed\n",
    "\n",
    "len(total_games)"
   ]
  },
  {
   "cell_type": "code",
   "execution_count": 16,
   "metadata": {},
   "outputs": [
    {
     "ename": "KeyError",
     "evalue": "'pgn'",
     "output_type": "error",
     "traceback": [
      "\u001b[0;31m---------------------------------------------------------------------------\u001b[0m",
      "\u001b[0;31mKeyError\u001b[0m                                  Traceback (most recent call last)",
      "\u001b[0;32m<ipython-input-16-e9e4022a4083>\u001b[0m in \u001b[0;36m<module>\u001b[0;34m\u001b[0m\n\u001b[1;32m     23\u001b[0m     \u001b[0murl\u001b[0m\u001b[0;34m.\u001b[0m\u001b[0mappend\u001b[0m\u001b[0;34m(\u001b[0m\u001b[0murl1\u001b[0m\u001b[0;34m)\u001b[0m\u001b[0;34m\u001b[0m\u001b[0;34m\u001b[0m\u001b[0m\n\u001b[1;32m     24\u001b[0m \u001b[0;34m\u001b[0m\u001b[0m\n\u001b[0;32m---> 25\u001b[0;31m     \u001b[0mdate1\u001b[0m \u001b[0;34m=\u001b[0m \u001b[0mtotal_games\u001b[0m\u001b[0;34m[\u001b[0m\u001b[0mi\u001b[0m\u001b[0;34m]\u001b[0m\u001b[0;34m[\u001b[0m\u001b[0;34m'pgn'\u001b[0m\u001b[0;34m]\u001b[0m\u001b[0;34m.\u001b[0m\u001b[0msplit\u001b[0m\u001b[0;34m(\u001b[0m\u001b[0;34m'\\n'\u001b[0m\u001b[0;34m)\u001b[0m\u001b[0;34m[\u001b[0m\u001b[0;36m2\u001b[0m\u001b[0;34m]\u001b[0m\u001b[0;34m.\u001b[0m\u001b[0msplit\u001b[0m\u001b[0;34m(\u001b[0m\u001b[0;34m\" \"\u001b[0m\u001b[0;34m)\u001b[0m\u001b[0;34m[\u001b[0m\u001b[0;36m1\u001b[0m\u001b[0;34m]\u001b[0m\u001b[0;34m\u001b[0m\u001b[0;34m\u001b[0m\u001b[0m\n\u001b[0m\u001b[1;32m     26\u001b[0m     \u001b[0mdate1\u001b[0m \u001b[0;34m=\u001b[0m \u001b[0mdate1\u001b[0m\u001b[0;34m[\u001b[0m\u001b[0;34m:\u001b[0m\u001b[0;34m-\u001b[0m\u001b[0;36m2\u001b[0m\u001b[0;34m]\u001b[0m\u001b[0;34m\u001b[0m\u001b[0;34m\u001b[0m\u001b[0m\n\u001b[1;32m     27\u001b[0m     \u001b[0mdate1\u001b[0m \u001b[0;34m=\u001b[0m \u001b[0mdate1\u001b[0m\u001b[0;34m[\u001b[0m\u001b[0;36m1\u001b[0m\u001b[0;34m:\u001b[0m\u001b[0;34m]\u001b[0m\u001b[0;34m\u001b[0m\u001b[0;34m\u001b[0m\u001b[0m\n",
      "\u001b[0;31mKeyError\u001b[0m: 'pgn'"
     ]
    }
   ],
   "source": [
    "# Creating fancy For Loop to loop through json data and append data lists\n",
    "\n",
    "url = []\n",
    "date = []\n",
    "time = []\n",
    "time_control = []\n",
    "fmt = \"%Y.%m.%d %H:%M:%S\"\n",
    "tz = timezone(\"US/Pacific\")\n",
    "\n",
    "white_name = []\n",
    "white_rating = []\n",
    "white_result = []\n",
    "\n",
    "black_name = []\n",
    "black_rating = []\n",
    "black_result = []\n",
    "\n",
    "eco_code = []\n",
    "eco_name = []\n",
    "\n",
    "for i in range(len(total_games)):\n",
    "    url1 = total_games[i]['url']\n",
    "    url.append(url1)\n",
    "    \n",
    "    try:\n",
    "        date1 = total_games[i]['pgn'].split('\\n')[2].split(\" \")[1]\n",
    "        date1 = date1[:-2]\n",
    "        date1 = date1[1:]\n",
    "        date.append(date1)\n",
    "    except:\n",
    "        date.append(None)\n",
    "    try:\n",
    "        time1 = total_games[i]['pgn'].split('\\n')[12].split(\" \")[1]\n",
    "        time1 = time1[:-2]\n",
    "        time1 = time1[1:]\n",
    "    \n",
    "        if len(time1) == 8: \n",
    "            time1 = datetime.strptime(date1 + \" \" + time1, fmt)\n",
    "            time2 = pytz.utc.localize(time1, is_dst=None).astimezone(tz)\n",
    "            time.append(time2.time())\n",
    "               \n",
    "        else:\n",
    "            time1 = (None)\n",
    "            time.append(time1)\n",
    "    except:\n",
    "        time.append(None)\n",
    "    \n",
    "    time_c = total_games[i]['time_control']\n",
    "    time_control.append(time_c)\n",
    "    \n",
    "    white1 = total_games[i]['white']['username']\n",
    "    white_name.append(white1)\n",
    "    \n",
    "    rating1 = total_games[i]['white']['rating']\n",
    "    white_rating.append(rating1)\n",
    "    \n",
    "    result1 = total_games[i]['white']['result']\n",
    "    white_result.append(result1)\n",
    "    \n",
    "    black1 = total_games[i]['black']['username']\n",
    "    black_name.append(black1)\n",
    "    \n",
    "    black2 = total_games[i]['black']['rating']\n",
    "    black_rating.append(black2)\n",
    "    \n",
    "    black3 = total_games[i]['black']['result']\n",
    "    black_result.append(black3)\n",
    "    \n",
    "    eco1 = re.sub(\"\\W\", \"\", total_games[i]['pgn'].split('\\n')[9].split(\" \")[1])\n",
    "    eco_code.append(eco1)\n",
    "    \n",
    "    try:\n",
    "        eco2 = total_games[i]['pgn'].split('\\n')[10].split(\"/\")[4].split(\"]\")[0]\n",
    "        eco3 = eco2[:-1]\n",
    "        eco_name.append(eco3)\n",
    "    except:\n",
    "        eco_name.append(None)"
   ]
  },
  {
   "cell_type": "code",
   "execution_count": 17,
   "metadata": {},
   "outputs": [],
   "source": [
    "# Looking for length of \"pgn\" annotation per games to use in For Loop\n",
    "pgn_number = []\n",
    "for i in range(len(total_games)):\n",
    "    try:\n",
    "        pgn1 = len(total_games[i]['pgn'].split(\"\\n\")[22].split(\" \"))\n",
    "        pgn_number.append(pgn1)\n",
    "    except:\n",
    "        pgn_number.append(None)"
   ]
  },
  {
   "cell_type": "code",
   "execution_count": null,
   "metadata": {},
   "outputs": [],
   "source": [
    "# Zip together length of total_games, and the number of pgn per game\n",
    "\n",
    "zipper = zip(range(len(total_games)), pgn_number)\n",
    "\n",
    "pgn_score = []\n",
    "pgn = []\n",
    "\n",
    "# Complicated For Loop which only appends the 1st, and 2nd element, \n",
    "# while skipping the 3rd and 4th\n",
    "\n",
    "for y, z in zipper:\n",
    "    total = total_games[y]\n",
    "    x = 0\n",
    "    pgn = []\n",
    "    \n",
    "    try:\n",
    "        for i in range(z):\n",
    "        \n",
    "            try:\n",
    "                x = x + 1\n",
    "        \n",
    "                if x == 1:\n",
    "                    pgn1 = total['pgn'].split(\"\\n\")[22].split(\" \")[i]\n",
    "                    pgn.append(pgn1)\n",
    "               \n",
    "                elif x == 2:\n",
    "                    pgn2 = total['pgn'].split(\"\\n\")[22].split(\" \")[i]\n",
    "                    pgn.append(pgn2)\n",
    "    \n",
    "                elif x == 3:\n",
    "                    pass\n",
    "    \n",
    "                else:\n",
    "                    x = 0\n",
    "        \n",
    "            except:\n",
    "                pgn_score.append(None)\n",
    "            \n",
    "        pgn_score.append(pgn)\n",
    "    except:\n",
    "        pgn_score.append(None)"
   ]
  },
  {
   "cell_type": "code",
   "execution_count": null,
   "metadata": {},
   "outputs": [],
   "source": [
    "white_bool = []\n",
    "\n",
    "for x in range(len(white_result)):\n",
    "    if white_result[x] == \"win\":\n",
    "        y = 1\n",
    "        white_bool.append(y)\n",
    "    elif (white_result[x] == \"resigned\" or white_result[x] == \"timeout\" or white_result[x] == \"checkmated\" or white_result[x] == \"abandoned\"):\n",
    "        y = 0\n",
    "        white_bool.append(y)\n",
    "    else: \n",
    "        y = 0.5\n",
    "        white_bool.append(y)"
   ]
  },
  {
   "cell_type": "code",
   "execution_count": null,
   "metadata": {},
   "outputs": [],
   "source": [
    "black_bool = []\n",
    "\n",
    "for x in range(len(white_result)):\n",
    "    if black_result[x] == \"win\":\n",
    "        y = 1\n",
    "        black_bool.append(y)\n",
    "    elif (black_result[x] == \"resigned\" or black_result[x] == \"timeout\" or black_result[x] == \"checkmated\" or black_result[x] == \"abandoned\"):\n",
    "        y = 0\n",
    "        black_bool.append(y)\n",
    "    else: \n",
    "        y = 0.5\n",
    "        black_bool.append(y)"
   ]
  },
  {
   "cell_type": "code",
   "execution_count": null,
   "metadata": {},
   "outputs": [],
   "source": [
    "# Turning pgn into single string for SQL to parse\n",
    "\n",
    "pgn_string = []\n",
    "string1 = \"\"\n",
    "\n",
    "for x in range(len(pgn_score)):\n",
    "    string1 = \"\"\n",
    "    try:\n",
    "        pgn1 = pgn_score[x]\n",
    "       \n",
    "        for pgn in pgn1:\n",
    "            string1 += pgn + \" \"\n",
    "        \n",
    "        pgn_string.append(string1)\n",
    "    \n",
    "    except:\n",
    "        pgn_string.append(None)\n",
    "        "
   ]
  },
  {
   "cell_type": "code",
   "execution_count": null,
   "metadata": {},
   "outputs": [],
   "source": [
    "# Creating a master dataframe on the data I collected\n",
    "total_games_df = {\"date\": date, \"time\": time, \"time_control\": time_control, \"white_name\": white_name, \"white_rating\": white_rating,\n",
    "                 \"white_result\": white_result, \"white_bool\": white_bool, \"black_name\": black_name, \"black_rating\": black_rating, \n",
    "                 \"black_result\": black_result, \"black_bool\": black_bool, \"eco_code\": eco_code, \"eco_name\": eco_name, \"pgn_score\": pgn_score, \"pgn_string\": pgn_string, \"url\": url}\n",
    "\n",
    "the_master_df = pd.DataFrame(total_games_df)\n",
    "the_master_df.head()"
   ]
  },
  {
   "cell_type": "code",
   "execution_count": null,
   "metadata": {},
   "outputs": [],
   "source": [
    "# Changing datatypes\n",
    "the_master_df['date'] = pd.to_datetime(the_master_df['date'])\n",
    "the_master_df = the_master_df.dropna()\n",
    "the_master_df['white_rating'] = the_master_df['white_rating'].astype(int)\n",
    "the_master_df['black_rating'] = the_master_df['black_rating'].astype(int)\n",
    "\n",
    "#No no no\n",
    "#the_master_df['white_bool'] = the_master_df['white_bool'].astype(int)\n",
    "#the_master_df['black_bool'] = the_master_df['black_bool'].astype(int)"
   ]
  },
  {
   "cell_type": "code",
   "execution_count": null,
   "metadata": {},
   "outputs": [],
   "source": [
    "the_master_df.to_csv(\"csv_files/master_df.csv\", index=False)"
   ]
  },
  {
   "cell_type": "code",
   "execution_count": null,
   "metadata": {},
   "outputs": [],
   "source": [
    "# BREAK"
   ]
  },
  {
   "cell_type": "code",
   "execution_count": null,
   "metadata": {},
   "outputs": [],
   "source": [
    "# Analysis\n",
    "the_master_df['white_result'].value_counts()\n",
    "the_master_df['time_control'].value_counts()"
   ]
  },
  {
   "cell_type": "code",
   "execution_count": null,
   "metadata": {},
   "outputs": [],
   "source": [
    "#Creating dataframes for each color\n",
    "\n",
    "white_df = the_master_df.where(the_master_df['white_name'] == 'jsteele619')\n",
    "white_df = white_df.dropna()\n",
    "black_df = the_master_df.where(the_master_df['black_name'] == 'jsteele619')\n",
    "black_df = black_df.dropna()"
   ]
  },
  {
   "cell_type": "code",
   "execution_count": null,
   "metadata": {},
   "outputs": [],
   "source": [
    "# Finding ratio of results for each color\n",
    "#white_list = the_master_df['white_bool'].where(the_master_df['white_name'] == 'jsteele619')\n",
    "#black_list = the_master_df['black_bool'].where(the_master_df['black_name'] == 'jsteele619')\n",
    "#black_list[0]/black_list.sum()\n",
    "#black_list[1]/black_list.sum()\n",
    "#black_list[0.5]/black_list.sum()\n",
    "#white_list[0]/white_list.sum()\n",
    "#white_list[1]/white_list.sum()\n",
    "#white_list[0.5]/white_list.sum()"
   ]
  },
  {
   "cell_type": "code",
   "execution_count": null,
   "metadata": {},
   "outputs": [],
   "source": [
    "# Creating DF for each time control\n",
    "white_df5 = the_master_df.where(the_master_df['white_name'] == 'jsteele619').where(the_master_df['time_control'] == '300')\n",
    "black_df5 = the_master_df.where(the_master_df['black_name'] == 'jsteele619').where(the_master_df['time_control'] == '300')\n",
    "white_df10 = the_master_df.where(the_master_df['white_name'] == 'jsteele619').where(the_master_df['time_control'] == '600')\n",
    "black_df10 = the_master_df.where(the_master_df['black_name'] == 'jsteele619').where(the_master_df['time_control'] == '600')"
   ]
  },
  {
   "cell_type": "code",
   "execution_count": null,
   "metadata": {},
   "outputs": [],
   "source": [
    "white_df5['date'].dtypes"
   ]
  },
  {
   "cell_type": "code",
   "execution_count": null,
   "metadata": {},
   "outputs": [],
   "source": [
    "# Graphing Blitz Rating results by time control\n",
    "fig = plt.figure()\n",
    "ax = plt.axes()\n",
    "\n",
    "ax.plot(white_df5[\"date\"], white_df5[\"white_rating\"], label=\"5 mins per side\")\n",
    "ax.plot(white_df10[\"date\"], white_df10[\"white_rating\"], label=\"10 mins per side\", color='green')\n",
    "ax.plot(black_df5[\"date\"], black_df5[\"black_rating\"], label=\"10 mins per side\", color='blue')\n",
    "ax.plot(black_df10[\"date\"], black_df10[\"black_rating\"], label=\"10 mins per side\", color='green')\n",
    "\n",
    "ax.legend(loc=\"best\")\n",
    "plt.title(\"White Blitz Rating over Time\")\n",
    "plt.xlabel(\"Date\")\n",
    "plt.ylabel(\"Rating\")\n",
    "plt.savefig(\"graphs/Time_Based/whiteblitz.png\")\n",
    "plt.show()"
   ]
  },
  {
   "cell_type": "code",
   "execution_count": null,
   "metadata": {
    "scrolled": true
   },
   "outputs": [],
   "source": [
    "#Getting the bins for graphing\n",
    "white_graph_time = []\n",
    "black_graph_time = []\n",
    "\n",
    "for time in white_df['time']:\n",
    "    white_graph_time.append(time.hour)  \n",
    "    \n",
    "for time in black_df['time']:\n",
    "    black_graph_time.append(time.hour)\n",
    "    \n",
    "#Getting the list of bool results for graphing\n",
    "    \n",
    "white_graph_bool = []\n",
    "black_graph_bool = []\n",
    "\n",
    "for bools in white_df['white_bool']:\n",
    "    white_graph_bool.append(bools)  \n",
    "    \n",
    "for bools in black_df['black_bool']:\n",
    "    black_graph_bool.append(bools)   \n",
    "    \n",
    "#Combining lists\n",
    "\n",
    "big_graph_time = white_graph_time + black_graph_time\n",
    "big_graph_bool = white_graph_bool + black_graph_bool\n",
    "\n",
    "print(f'Lengths of both lists: {len(big_graph_bool)} and {len(big_graph_time)}')"
   ]
  },
  {
   "cell_type": "code",
   "execution_count": null,
   "metadata": {
    "scrolled": true
   },
   "outputs": [],
   "source": [
    "zipped = {\"big_graph_time\": big_graph_time, \"big_graph_bool\": big_graph_bool}\n",
    "zips = pd.DataFrame(zipped)"
   ]
  },
  {
   "cell_type": "code",
   "execution_count": null,
   "metadata": {},
   "outputs": [],
   "source": [
    "#Creating list of frequency per result, per hour:\n",
    "zips1 = zips.where(zips['big_graph_bool'] == 1.0)\n",
    "zips5 = zips.where(zips['big_graph_bool'] == 0.5)\n",
    "zips0 = zips.where(zips['big_graph_bool'] == 0.0)\n",
    "zips1 = zips1.dropna()\n",
    "zips0 = zips0.dropna()\n",
    "zips5 = zips5.dropna()"
   ]
  },
  {
   "cell_type": "code",
   "execution_count": null,
   "metadata": {},
   "outputs": [],
   "source": [
    "# Plotting Time of Day vs Date\n",
    "fig = plt.figure()\n",
    "ax = plt.axes()\n",
    "\n",
    "plt.scatter(white_df[\"date\"], white_graph_time, label=\"5 mins per side\")\n",
    "\n",
    "ax.legend(loc=\"best\")\n",
    "\n",
    "plt.title(\"Time of Day played vs Date\")\n",
    "plt.xlabel(\"Date\")\n",
    "plt.ylabel(\"Time of Day\")\n",
    "plt.savefig(\"graphs/Time_Based/timeofday_date.png\")\n",
    "plt.show()"
   ]
  },
  {
   "cell_type": "code",
   "execution_count": null,
   "metadata": {},
   "outputs": [],
   "source": [
    "#Graphing wins per Time Hour\n",
    "N = 25\n",
    "ind = np.arange(N)\n",
    "bins = ind\n",
    "\n",
    "plt.hist(zips1['big_graph_time'], bins, width=0.8, label='Won', color='gold')\n",
    "\n",
    "plt.xticks(ind)\n",
    "plt.ylabel(\"Results\")\n",
    "plt.xlabel(\"Hours of the Day\")\n",
    "plt.legend(loc=\"best\")\n",
    "plt.title(\"Wins by Time of Day\")\n",
    "plt.savefig(\"graphs/Time_Based/winperhour.png\")\n",
    "\n",
    "plt.show()"
   ]
  },
  {
   "cell_type": "code",
   "execution_count": null,
   "metadata": {},
   "outputs": [],
   "source": [
    "#Graphing draws per Time Hour\n",
    "N = 25\n",
    "ind = np.arange(N)\n",
    "bins = ind\n",
    "\n",
    "plt.hist(zips5['big_graph_time'], bins, width=0.8, label='draw', color='silver')\n",
    "\n",
    "plt.xticks(ind)\n",
    "plt.ylabel(\"Results\")\n",
    "plt.xlabel(\"Hours of the Day\")\n",
    "plt.legend(loc=\"best\")\n",
    "plt.title(\"Draws by Time of Day\")\n",
    "plt.savefig(\"graphs/Time_Based/drawperhour.png\")\n",
    "plt.show()"
   ]
  },
  {
   "cell_type": "code",
   "execution_count": null,
   "metadata": {},
   "outputs": [],
   "source": [
    "#Graphing losses per Time Hour\n",
    "N = 25\n",
    "ind = np.arange(N)\n",
    "bins = ind\n",
    "\n",
    "plt.hist(zips0['big_graph_time'], bins, width=0.8, label='draw', color='#CD853F')\n",
    "\n",
    "plt.xticks(ind)\n",
    "plt.ylabel(\"Results\")\n",
    "plt.xlabel(\"Hours of the Day\")\n",
    "plt.legend(loc=\"best\")\n",
    "plt.title(\"Losses by Time of Day\")\n",
    "plt.savefig(\"graphs/Time_Based/lossperhour.png\")\n",
    "\n",
    "plt.show()"
   ]
  },
  {
   "cell_type": "code",
   "execution_count": null,
   "metadata": {},
   "outputs": [],
   "source": [
    "# Comparison Wins and Losses\n",
    "\n",
    "N = 25\n",
    "ind = np.arange(N)\n",
    "bins = ind\n",
    "\n",
    "plt.hist(zips1['big_graph_time'], bins, width=0.8, label='Won', color='gold', stacked=True)\n",
    "plt.hist(zips5['big_graph_time'], bins, width=0.8, label='Draw', color='silver', stacked=True)\n",
    "plt.hist(zips0['big_graph_time'], bins, width=0.8, label='Lost', color='#CD853F', stacked=True)\n",
    "\n",
    "plt.ylabel(\"Results\")\n",
    "plt.xlabel(\"Hours of the Day\")\n",
    "plt.legend(loc=\"best\")\n",
    "plt.title(\"Result by Time of Day\")\n",
    "plt.savefig(\"graphs/Time_Based/comparisonperhour.png\")\n",
    "\n",
    "plt.show()"
   ]
  },
  {
   "cell_type": "code",
   "execution_count": null,
   "metadata": {},
   "outputs": [],
   "source": [
    "#The Stacked Graph by hour\n",
    "N = 25\n",
    "ind = np.arange(N)\n",
    "bins = ind\n",
    "\n",
    "plt.hist([zips1['big_graph_time'], zips5['big_graph_time'], zips0['big_graph_time']], bins, color=['#CD853F', 'silver', 'gold'], label=['Won', 'Draw', 'Loss'], stacked=True)\n",
    "\n",
    "plt.ylabel(\"Results\")\n",
    "plt.xlabel(\"Stacked Graph by Time of Day\")\n",
    "plt.legend(loc=\"best\")\n",
    "plt.title(\"Result by Time of Day\")\n",
    "plt.savefig(\"graphs/Time_Based/stackedperhour.png\")\n",
    "\n",
    "plt.show()"
   ]
  },
  {
   "cell_type": "code",
   "execution_count": null,
   "metadata": {},
   "outputs": [],
   "source": [
    "#Importing saved SQL search from other jupyter notebook\n",
    "\n",
    "%store -r white_e4\n",
    "%store -r white_d4\n",
    "%store -r white_c4\n",
    "%store -r white_Nf3\n",
    "%store -r white_openings\n",
    "%store -r black_against_e4\n",
    "%store -r black_against_d4\n",
    "%store -r black_sicilian\n",
    "%store -r black_italian\n",
    "%store -r black_caro\n",
    "%store -r black_french\n",
    "%store -r black_indian\n",
    "%store -r black_queens"
   ]
  },
  {
   "cell_type": "code",
   "execution_count": null,
   "metadata": {},
   "outputs": [],
   "source": [
    "#Graphing the Opening Moves I've played\n",
    "\n",
    "plt.bar(white_openings['sub'].head(4), white_openings['count'].head(4))\n",
    "plt.ylabel(\"Results\")\n",
    "plt.xlabel(\"Openings\")\n",
    "\n",
    "plt.title(\"Openings played by White\")\n",
    "plt.savefig(\"graphs/Openings/white_openings.png\")\n",
    "\n",
    "plt.show()"
   ]
  },
  {
   "cell_type": "code",
   "execution_count": null,
   "metadata": {},
   "outputs": [],
   "source": [
    "#Results with White playing 1. e4\n",
    "labels = white_e4['white_bool']\n",
    "\n",
    "fig1, ax1 = plt.subplots()\n",
    "ax1.pie(white_e4['count'], labels=['Win','Draw','Loss'], autopct='%1.1f%%',\n",
    "        shadow=True, startangle=90)\n",
    "plt.title(\"Results of White playing E4\")\n",
    "plt.savefig(\"graphs/Openings/White_playing_e4\")\n",
    "plt.show()"
   ]
  },
  {
   "cell_type": "code",
   "execution_count": null,
   "metadata": {},
   "outputs": [],
   "source": [
    "#Results with White playing 1. d4\n",
    "\n",
    "labels = white_d4['white_bool']\n",
    "\n",
    "fig1, ax1 = plt.subplots()\n",
    "ax1.pie(white_d4['count'], labels=['Win','Draw','Loss'], autopct='%1.1f%%',\n",
    "        shadow=True, startangle=90)\n",
    "plt.title(\"Results of White playing d4\")\n",
    "plt.savefig(\"graphs/Openings/White_playing_d4\")\n",
    "plt.show()"
   ]
  },
  {
   "cell_type": "code",
   "execution_count": null,
   "metadata": {},
   "outputs": [],
   "source": [
    "#Results with White playing 1. c4\n",
    "labels = white_c4['white_bool']\n",
    "\n",
    "fig1, ax1 = plt.subplots()\n",
    "ax1.pie(white_c4['count'], labels=['Win','Draw','Loss'], autopct='%1.1f%%',\n",
    "        shadow=True, startangle=90)\n",
    "plt.title(\"Results of White playing c4\")\n",
    "plt.savefig(\"graphs/Openings/White_playing_c4\")\n",
    "plt.show()"
   ]
  },
  {
   "cell_type": "code",
   "execution_count": null,
   "metadata": {},
   "outputs": [],
   "source": [
    "#Results with White playing 1. Nf3\n",
    "labels = white_Nf3['white_bool']\n",
    "\n",
    "fig1, ax1 = plt.subplots()\n",
    "ax1.pie(white_Nf3['count'], labels=['Win','Draw','Loss'], autopct='%1.1f%%',\n",
    "        shadow=True, startangle=90)\n",
    "plt.title(\"Results of White playing Nf3\")\n",
    "plt.savefig(\"graphs/Openings/White_playing_Nf3\")\n",
    "plt.show()"
   ]
  },
  {
   "cell_type": "code",
   "execution_count": null,
   "metadata": {},
   "outputs": [],
   "source": [
    "# Creating Function for Labels\n",
    "\n",
    "def label_e4(string):\n",
    "    if string == \"1. e4 1... c5 2\":\n",
    "        name = 'Sicilian'\n",
    "    elif string == '1. e4 1... e5 2':\n",
    "        name = 'Italian Game'\n",
    "    elif string == '1. e4 1... c6 2':\n",
    "        name = 'Caro-Kann'\n",
    "    elif string == '1. e4 1... e6 2':\n",
    "        name = 'French'\n",
    "    elif string == '1. e4 1... Nf6 ':\n",
    "        name = \"Alekhine's\"\n",
    "    elif string == \"1. e4 1... b6 2\":\n",
    "        name = \"Owen's Defense\"\n",
    "    elif string == \"1. e4 1... g6 2\":\n",
    "        name = 'Pirc'\n",
    "    elif string == \"1. e4 1... d6 2\":\n",
    "        name = 'Pirc'\n",
    "    elif string == \"1. e4 1... d5 2\":\n",
    "        name = \"Scandinavian\"\n",
    "    elif string == \"1. e4 1... Nc6 \":\n",
    "        name = \"Nimzowitsch\"\n",
    "    else:\n",
    "        name = \"Other\"\n",
    "    return name\n",
    "\n",
    "\n",
    "def label_d4(string):\n",
    "    if string == \"1. d4 1... d5 2\":\n",
    "        name = \"Queen's Game\"\n",
    "    elif string == '1. d4 1... Nf6 ':\n",
    "        name = 'Indian (Nf6)'\n",
    "    elif string == '1. d4 1... f5 2':\n",
    "        name = 'Dutch'\n",
    "    elif string == '1. d4 1... e6 2':\n",
    "        name = 'French Invitation'\n",
    "    elif string == '1. d4 1... c5 2':\n",
    "        name = \"Benoni\"\n",
    "    elif string == \"1. d4 1... g6 2\":\n",
    "        name = 'Indian Game'\n",
    "    elif string == \"1. e4 1... g6 2\":\n",
    "        name = 'Pirc'\n",
    "    else:\n",
    "        name = \"Other\"\n",
    "    return name\n",
    "\n",
    "black_e4_names = []\n",
    "black_d4_names = []\n",
    "\n",
    "for x in range(len(black_against_e4['sub'])):\n",
    "    name = label_e4(black_against_e4['sub'][x])\n",
    "    black_e4_names.append(name)\n",
    "\n",
    "for x in range(len(black_against_d4['sub'])):\n",
    "    name = label_d4(black_against_d4['sub'][x])\n",
    "    black_d4_names.append(name)"
   ]
  },
  {
   "cell_type": "code",
   "execution_count": null,
   "metadata": {},
   "outputs": [],
   "source": [
    "# Number of games as Black against e4 per Opening\n",
    "\n",
    "plt.bar(black_e4_names[:5], black_against_e4['count'].head(5))\n",
    "plt.ylabel(\"Number of Games\")\n",
    "\n",
    "\n",
    "plt.title(\"Black Openings against e4\")\n",
    "plt.savefig(\"graphs/Openings/black_against_e4.png\")\n",
    "\n",
    "plt.show()"
   ]
  },
  {
   "cell_type": "code",
   "execution_count": null,
   "metadata": {},
   "outputs": [],
   "source": [
    "# Number of games as Black against d4 per Opening\n",
    "\n",
    "plt.bar(black_d4_names[:4], black_against_d4['count'].head(4))\n",
    "plt.ylabel(\"Number of Games\")\n",
    "#plt.xlabel(\"Openings\")\n",
    "\n",
    "plt.title(\"Black openings against d4\")\n",
    "plt.savefig(\"graphs/Openings/black_against_d4.png\")\n",
    "\n",
    "plt.show()"
   ]
  },
  {
   "cell_type": "code",
   "execution_count": null,
   "metadata": {},
   "outputs": [],
   "source": [
    "#Results with Black with Sicilian\n",
    "labels = black_sicilian['black_bool']\n",
    "\n",
    "fig1, ax1 = plt.subplots()\n",
    "ax1.pie(black_sicilian['count'], labels=['Win','Draw','Loss'], autopct='%1.1f%%',\n",
    "        shadow=True, startangle=90)\n",
    "plt.title(\"Results of Black playing the Sicilian (C5)\")\n",
    "plt.savefig(\"graphs/Openings/Black_Sicilian_results\")\n",
    "plt.show()"
   ]
  },
  {
   "cell_type": "code",
   "execution_count": null,
   "metadata": {},
   "outputs": [],
   "source": [
    "labels = black_sicilian['black_bool']\n",
    "\n",
    "fig1, ax1 = plt.subplots()\n",
    "ax1.pie(black_italian['count'], labels=['Win','Draw','Loss'], autopct='%1.1f%%',\n",
    "        shadow=True, startangle=90)\n",
    "plt.title(\"Results of Black playing the Italian (e5)\")\n",
    "plt.savefig(\"graphs/Openings/Black_Italian_results\")\n",
    "plt.show()"
   ]
  },
  {
   "cell_type": "code",
   "execution_count": null,
   "metadata": {},
   "outputs": [],
   "source": [
    "labels = black_sicilian['black_bool']\n",
    "\n",
    "fig1, ax1 = plt.subplots()\n",
    "ax1.pie(black_caro['count'], labels=['Win','Draw','Loss'], autopct='%1.1f%%',\n",
    "        shadow=True, startangle=90)\n",
    "plt.title(\"Results of Black playing the Caro (c6)\")\n",
    "plt.savefig(\"graphs/Openings/Black_Caro_results\")\n",
    "plt.show()"
   ]
  },
  {
   "cell_type": "code",
   "execution_count": null,
   "metadata": {},
   "outputs": [],
   "source": [
    "labels = black_sicilian['black_bool']\n",
    "\n",
    "fig1, ax1 = plt.subplots()\n",
    "ax1.pie(black_french['count'], labels=['Win','Draw','Loss'], autopct='%1.1f%%',\n",
    "        shadow=True, startangle=90)\n",
    "plt.title(\"Results of Black playing the French (e6)\")\n",
    "plt.savefig(\"graphs/Openings/Black_French_results\")\n",
    "plt.show()"
   ]
  },
  {
   "cell_type": "code",
   "execution_count": null,
   "metadata": {},
   "outputs": [],
   "source": [
    "labels = black_sicilian['black_bool']\n",
    "\n",
    "fig1, ax1 = plt.subplots()\n",
    "ax1.pie(black_queens['count'], labels=['Win','Draw','Loss'], autopct='%1.1f%%',\n",
    "        shadow=True, startangle=90)\n",
    "plt.title(\"Results of Black playing d5 against d4\")\n",
    "plt.savefig(\"graphs/Openings/Black_Queens_results\")\n",
    "plt.show()"
   ]
  },
  {
   "cell_type": "code",
   "execution_count": null,
   "metadata": {},
   "outputs": [],
   "source": [
    "labels = black_sicilian['black_bool']\n",
    "\n",
    "fig1, ax1 = plt.subplots()\n",
    "ax1.pie(black_indian['count'], labels=['Win','Draw','Loss'], autopct='%1.1f%%',\n",
    "        shadow=True, startangle=90)\n",
    "plt.title(\"Results of Black playing Nf6 against d4\")\n",
    "plt.savefig(\"graphs/Openings/Black_Indian_results\")\n",
    "plt.show()"
   ]
  },
  {
   "cell_type": "code",
   "execution_count": null,
   "metadata": {},
   "outputs": [],
   "source": []
  }
 ],
 "metadata": {
  "kernelspec": {
   "display_name": "Python 3",
   "language": "python",
   "name": "python3"
  },
  "language_info": {
   "codemirror_mode": {
    "name": "ipython",
    "version": 3
   },
   "file_extension": ".py",
   "mimetype": "text/x-python",
   "name": "python",
   "nbconvert_exporter": "python",
   "pygments_lexer": "ipython3",
   "version": "3.7.7"
  }
 },
 "nbformat": 4,
 "nbformat_minor": 4
}
