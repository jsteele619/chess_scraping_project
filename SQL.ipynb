{
 "cells": [
  {
   "cell_type": "code",
   "execution_count": 4,
   "metadata": {},
   "outputs": [],
   "source": [
    "import pandas as pd\n",
    "import sqlalchemy\n",
    "from sqlalchemy import create_engine\n",
    "from config import login\n"
   ]
  },
  {
   "cell_type": "code",
   "execution_count": 5,
   "metadata": {},
   "outputs": [],
   "source": [
    "db_url = 'postgresql://' + login + '@localhost:5432/chess_db'\n",
    "engine = create_engine(db_url)\n",
    "connection = engine.connect()\n",
    "\n"
   ]
  },
  {
   "cell_type": "code",
   "execution_count": 6,
   "metadata": {},
   "outputs": [
    {
     "output_type": "error",
     "ename": "NameError",
     "evalue": "name 'name' is not defined",
     "traceback": [
      "\u001b[0;31m---------------------------------------------------------------------------\u001b[0m",
      "\u001b[0;31mNameError\u001b[0m                                 Traceback (most recent call last)",
      "\u001b[0;32m<ipython-input-6-5e60606c4751>\u001b[0m in \u001b[0;36m<module>\u001b[0;34m\u001b[0m\n\u001b[0;32m----> 1\u001b[0;31m \u001b[0mmaster_df\u001b[0m \u001b[0;34m=\u001b[0m \u001b[0mpd\u001b[0m\u001b[0;34m.\u001b[0m\u001b[0mread_csv\u001b[0m\u001b[0;34m(\u001b[0m\u001b[0;34mf\"csv_files/{name}.csv\"\u001b[0m\u001b[0;34m)\u001b[0m\u001b[0;34m\u001b[0m\u001b[0;34m\u001b[0m\u001b[0m\n\u001b[0m\u001b[1;32m      2\u001b[0m \u001b[0mmaster_df\u001b[0m \u001b[0;34m=\u001b[0m \u001b[0mmaster_df\u001b[0m\u001b[0;34m.\u001b[0m\u001b[0mset_index\u001b[0m\u001b[0;34m(\u001b[0m\u001b[0;34m\"date\"\u001b[0m\u001b[0;34m)\u001b[0m\u001b[0;34m\u001b[0m\u001b[0;34m\u001b[0m\u001b[0m\n\u001b[1;32m      3\u001b[0m \u001b[0;34m\u001b[0m\u001b[0m\n\u001b[1;32m      4\u001b[0m \u001b[0mget_ipython\u001b[0m\u001b[0;34m(\u001b[0m\u001b[0;34m)\u001b[0m\u001b[0;34m.\u001b[0m\u001b[0mrun_line_magic\u001b[0m\u001b[0;34m(\u001b[0m\u001b[0;34m'store'\u001b[0m\u001b[0;34m,\u001b[0m \u001b[0;34m'-r name'\u001b[0m\u001b[0;34m)\u001b[0m\u001b[0;34m\u001b[0m\u001b[0;34m\u001b[0m\u001b[0m\n",
      "\u001b[0;31mNameError\u001b[0m: name 'name' is not defined"
     ]
    }
   ],
   "source": [
    "master_df = pd.read_csv(f\"csv_files/{name}.csv\")\n",
    "master_df = master_df.set_index(\"date\")\n",
    "\n",
    "%store -r name"
   ]
  },
  {
   "cell_type": "code",
   "execution_count": 119,
   "metadata": {},
   "outputs": [
    {
     "output_type": "execute_result",
     "data": {
      "text/plain": [
       "<sqlalchemy.engine.result.ResultProxy at 0x7fdace1df910>"
      ]
     },
     "metadata": {},
     "execution_count": 119
    }
   ],
   "source": [
    "#SQL CODE to create table\n",
    "drop = \"DROP TABLE IF EXISTS chess\"\n",
    "engine.execute(drop)\n"
   ]
  },
  {
   "cell_type": "code",
   "execution_count": 120,
   "metadata": {},
   "outputs": [],
   "source": [
    "create = (\"CREATE TABLE IF NOT EXISTS chess ( \\\n",
    "\tdate date, \\\n",
    "\ttime varchar(40), \\\n",
    "\ttime_control varchar(10), \\\n",
    "\twhite_name varchar(40), \\\n",
    "\twhite_rating int, \\\n",
    "\twhite_result varchar(40), \\\n",
    "\twhite_bool float, \\\n",
    "\tblack_name varchar(40), \\\n",
    "\tblack_rating int, \\\n",
    "\tblack_result varchar(40), \\\n",
    "\tblack_bool float, \\\n",
    "\teco_code varchar(10), \\\n",
    "\teco_name varchar(250), \\\n",
    "\tpgn_score varchar(5000), \\\n",
    "\tpgn_string varchar(5000), \\\n",
    "\turl varchar(750));\")\n",
    "\n",
    "create_sql = engine.execute(create)"
   ]
  },
  {
   "cell_type": "code",
   "execution_count": 121,
   "metadata": {},
   "outputs": [],
   "source": [
    "master_df.to_sql('chess', engine, if_exists='append')"
   ]
  },
  {
   "cell_type": "code",
   "execution_count": 122,
   "metadata": {},
   "outputs": [],
   "source": [
    "# BREAK"
   ]
  },
  {
   "cell_type": "code",
   "execution_count": 5,
   "metadata": {},
   "outputs": [],
   "source": []
  },
  {
   "cell_type": "code",
   "execution_count": 123,
   "metadata": {},
   "outputs": [],
   "source": [
    "# Using SQL within Python to find Results by White's Opening Move\n",
    "\n",
    "# Update Username\n",
    "\n",
    "white_e4_sql = f\"select white_bool, count(white_bool) from chess \\\n",
    "where white_name = '{name}' \\\n",
    "and pgn_string like '1. e4%' \\\n",
    "group by white_bool;\"\n",
    "\n",
    "white_e4 = pd.read_sql(white_e4_sql, connection)\n",
    "\n",
    "white_d4_sql = f\"select white_bool, count(white_bool) from chess \\\n",
    "where white_name = '{name}' \\\n",
    "and pgn_string like '1. d4%' \\\n",
    "group by white_bool;\"\n",
    "\n",
    "white_d4 = pd.read_sql(white_d4_sql, connection)\n",
    "\n",
    "white_c4_sql = f\"select white_bool, count(white_bool) from chess \\\n",
    "where white_name = '{name}' \\\n",
    "and pgn_string like '1. c4%' \\\n",
    "group by white_bool;\"\n",
    "\n",
    "white_c4 = pd.read_sql(white_c4_sql, connection)\n",
    "\n",
    "white_Nf3_sql = f\"select white_bool, count(white_bool) from chess \\\n",
    "where white_name = '{name}' \\\n",
    "and pgn_string like '1. Nf3%' \\\n",
    "group by white_bool;\"\n",
    "\n",
    "white_Nf3 = pd.read_sql(white_Nf3_sql, connection)\n",
    "\n",
    "white_all = f\"select count(pgn_string), substr(pgn_string, 1, 6) as sub \\\n",
    "from chess \\\n",
    "where white_name = '{name}' \\\n",
    "group by sub \\\n",
    "order by count(pgn_string) desc\"\n",
    "\n",
    "white_openings = pd.read_sql(white_all, connection)"
   ]
  },
  {
   "cell_type": "code",
   "execution_count": 124,
   "metadata": {},
   "outputs": [
    {
     "output_type": "execute_result",
     "data": {
      "text/plain": [
       "Empty DataFrame\n",
       "Columns: [white_bool, count]\n",
       "Index: []"
      ],
      "text/html": "<div>\n<style scoped>\n    .dataframe tbody tr th:only-of-type {\n        vertical-align: middle;\n    }\n\n    .dataframe tbody tr th {\n        vertical-align: top;\n    }\n\n    .dataframe thead th {\n        text-align: right;\n    }\n</style>\n<table border=\"1\" class=\"dataframe\">\n  <thead>\n    <tr style=\"text-align: right;\">\n      <th></th>\n      <th>white_bool</th>\n      <th>count</th>\n    </tr>\n  </thead>\n  <tbody>\n  </tbody>\n</table>\n</div>"
     },
     "metadata": {},
     "execution_count": 124
    }
   ],
   "source": [
    "white_Nf3"
   ]
  },
  {
   "cell_type": "code",
   "execution_count": 1,
   "metadata": {},
   "outputs": [
    {
     "output_type": "error",
     "ename": "NameError",
     "evalue": "name 'name' is not defined",
     "traceback": [
      "\u001b[0;31m---------------------------------------------------------------------------\u001b[0m",
      "\u001b[0;31mNameError\u001b[0m                                 Traceback (most recent call last)",
      "\u001b[0;32m<ipython-input-1-5f1fc85b1b28>\u001b[0m in \u001b[0;36m<module>\u001b[0;34m\u001b[0m\n\u001b[1;32m      5\u001b[0m \u001b[0;32mand\u001b[0m \u001b[0mpgn_string\u001b[0m \u001b[0mlike\u001b[0m \u001b[0;34m'1.%'\u001b[0m\u001b[0;31m \u001b[0m\u001b[0;31m\\\u001b[0m\u001b[0;34m\u001b[0m\u001b[0;34m\u001b[0m\u001b[0m\n\u001b[1;32m      6\u001b[0m \u001b[0mgroup\u001b[0m \u001b[0mby\u001b[0m \u001b[0msub\u001b[0m\u001b[0;31m \u001b[0m\u001b[0;31m\\\u001b[0m\u001b[0;34m\u001b[0m\u001b[0;34m\u001b[0m\u001b[0m\n\u001b[0;32m----> 7\u001b[0;31m \u001b[0morder\u001b[0m \u001b[0mby\u001b[0m \u001b[0mcount\u001b[0m\u001b[0;34m(\u001b[0m\u001b[0mblack_bool\u001b[0m\u001b[0;34m)\u001b[0m \u001b[0mdesc\u001b[0m\u001b[0;31m\"\u001b[0m\u001b[0;34m\u001b[0m\u001b[0;34m\u001b[0m\u001b[0m\n\u001b[0m\u001b[1;32m      8\u001b[0m \u001b[0;34m\u001b[0m\u001b[0m\n\u001b[1;32m      9\u001b[0m \u001b[0mfirst_move_for_black\u001b[0m \u001b[0;34m=\u001b[0m \u001b[0mpd\u001b[0m\u001b[0;34m.\u001b[0m\u001b[0mread_sql\u001b[0m\u001b[0;34m(\u001b[0m\u001b[0mfirst_move_when_black\u001b[0m\u001b[0;34m,\u001b[0m \u001b[0mconnection\u001b[0m\u001b[0;34m)\u001b[0m\u001b[0;34m\u001b[0m\u001b[0;34m\u001b[0m\u001b[0m\n",
      "\u001b[0;31mNameError\u001b[0m: name 'name' is not defined"
     ]
    }
   ],
   "source": [
    "# Using SQL within Python to find Results by Black's Opening Reply\n",
    "\n",
    "first_move_when_black = f\"select count(black_bool), substr(pgn_string, 1, 6) as sub from chess \\\n",
    "where black_name = '{name}' \\\n",
    "and pgn_string like '1.%' \\\n",
    "group by sub \\\n",
    "order by count(black_bool) desc\"\n",
    "\n",
    "first_move_for_black = pd.read_sql(first_move_when_black, connection)\n",
    "\n",
    "black_e4 = f\"select count(pgn_string), substr(pgn_string, 1, 15) as sub \\\n",
    "from chess \\\n",
    "where black_name = '{name}' \\\n",
    "and pgn_string like '1. e4%' \\\n",
    "group by sub \\\n",
    "order by count(pgn_string) desc\"\n",
    "\n",
    "black_against_e4 = pd.read_sql(black_e4, connection)\n",
    "\n",
    "black_d4 = f\"select count(pgn_string), substr(pgn_string, 1, 15) as sub \\\n",
    "from chess \\\n",
    "where black_name = '{name}' \\\n",
    "and pgn_string like '1. d4%' \\\n",
    "group by sub \\\n",
    "order by count(pgn_string) desc\"\n",
    "\n",
    "black_against_d4 = pd.read_sql(black_d4, connection)\n",
    "\n",
    "black_d4_sql = f\"select black_bool, count(black_bool) from chess \\\n",
    "where black_name = '{name}' \\\n",
    "and pgn_string like '1. d4%' \\\n",
    "group by black_bool;\"\n",
    "\n",
    "black_sicilian_sql = f\"select black_bool, count(black_bool) from chess \\\n",
    "where black_name = '{name}' \\\n",
    "and pgn_string like '1. e4 1... c5 2%' \\\n",
    "group by black_bool;\"\n",
    "\n",
    "black_sicilian = pd.read_sql(black_sicilian_sql, connection)\n",
    "\n",
    "black_italian_sql = f\"select black_bool, count(black_bool) from chess \\\n",
    "where black_name = '{name}' \\\n",
    "and pgn_string like '1. e4 1... e5%' \\\n",
    "group by black_bool;\"\n",
    "\n",
    "black_italian = pd.read_sql(black_italian_sql, connection)\n",
    "\n",
    "black_caro_sql = f\"select black_bool, count(black_bool) from chess \\\n",
    "where black_name = '{name}' \\\n",
    "and pgn_string like '1. e4 1... c6 2%' \\\n",
    "group by black_bool;\"\n",
    "\n",
    "black_caro = pd.read_sql(black_caro_sql, connection)\n",
    "\n",
    "black_french_sql = f\"select black_bool, count(black_bool) from chess \\\n",
    "where black_name = '{name}' \\\n",
    "and pgn_string like '1. e4 1... e6 2%' \\\n",
    "group by black_bool;\"\n",
    "\n",
    "black_french = pd.read_sql(black_french_sql, connection)\n",
    "\n",
    "black_alekhine_sql = f\"select black_bool, count(black_bool) from chess \\\n",
    "where black_name = '{name}' \\\n",
    "and pgn_string like '1. e4 1... Nf6 2%' \\\n",
    "group by black_bool;\"\n",
    "\n",
    "black_alekhine = pd.read_sql(black_alekhine_sql, connection)\n",
    "\n",
    "\n",
    "black_indian_sql = f\"select black_bool, count(black_bool) from chess \\\n",
    "where black_name = '{name}' \\\n",
    "and pgn_string like '1. d4 1... Nf6%' \\\n",
    "group by black_bool;\"\n",
    "\n",
    "black_indian = pd.read_sql(black_indian_sql, connection)\n",
    "\n",
    "black_queen_sql = f\"select black_bool, count(black_bool) from chess \\\n",
    "where black_name = '{name}' \\\n",
    "and pgn_string like '1. d4 1... d5%' \\\n",
    "group by black_bool;\"\n",
    "\n",
    "black_queens = pd.read_sql(black_queen_sql, connection)"
   ]
  },
  {
   "cell_type": "code",
   "execution_count": 126,
   "metadata": {},
   "outputs": [
    {
     "output_type": "execute_result",
     "data": {
      "text/plain": [
       "   white_bool  count\n",
       "0         0.0     46\n",
       "1         0.5      2\n",
       "2         1.0     55"
      ],
      "text/html": "<div>\n<style scoped>\n    .dataframe tbody tr th:only-of-type {\n        vertical-align: middle;\n    }\n\n    .dataframe tbody tr th {\n        vertical-align: top;\n    }\n\n    .dataframe thead th {\n        text-align: right;\n    }\n</style>\n<table border=\"1\" class=\"dataframe\">\n  <thead>\n    <tr style=\"text-align: right;\">\n      <th></th>\n      <th>white_bool</th>\n      <th>count</th>\n    </tr>\n  </thead>\n  <tbody>\n    <tr>\n      <th>0</th>\n      <td>0.0</td>\n      <td>46</td>\n    </tr>\n    <tr>\n      <th>1</th>\n      <td>0.5</td>\n      <td>2</td>\n    </tr>\n    <tr>\n      <th>2</th>\n      <td>1.0</td>\n      <td>55</td>\n    </tr>\n  </tbody>\n</table>\n</div>"
     },
     "metadata": {},
     "execution_count": 126
    }
   ],
   "source": [
    "white_e4"
   ]
  },
  {
   "cell_type": "code",
   "execution_count": 7,
   "metadata": {},
   "outputs": [
    {
     "output_type": "error",
     "ename": "NameError",
     "evalue": "name 'white_Nf3' is not defined",
     "traceback": [
      "\u001b[0;31m---------------------------------------------------------------------------\u001b[0m",
      "\u001b[0;31mNameError\u001b[0m                                 Traceback (most recent call last)",
      "\u001b[0;32m<ipython-input-7-db44a58b2b00>\u001b[0m in \u001b[0;36m<module>\u001b[0;34m\u001b[0m\n\u001b[1;32m      1\u001b[0m \u001b[0;31m#Standardizing order and storing variable for global use\u001b[0m\u001b[0;34m\u001b[0m\u001b[0;34m\u001b[0m\u001b[0;34m\u001b[0m\u001b[0m\n\u001b[1;32m      2\u001b[0m \u001b[0;34m\u001b[0m\u001b[0m\n\u001b[0;32m----> 3\u001b[0;31m \u001b[0mwhite_Nf3\u001b[0m \u001b[0;34m=\u001b[0m \u001b[0mwhite_Nf3\u001b[0m\u001b[0;34m.\u001b[0m\u001b[0msort_values\u001b[0m\u001b[0;34m(\u001b[0m\u001b[0;34m[\u001b[0m\u001b[0;34m'white_bool'\u001b[0m\u001b[0;34m]\u001b[0m\u001b[0;34m,\u001b[0m \u001b[0mascending\u001b[0m\u001b[0;34m=\u001b[0m\u001b[0;32mFalse\u001b[0m\u001b[0;34m)\u001b[0m\u001b[0;34m\u001b[0m\u001b[0;34m\u001b[0m\u001b[0m\n\u001b[0m\u001b[1;32m      4\u001b[0m \u001b[0mwhite_c4\u001b[0m \u001b[0;34m=\u001b[0m \u001b[0mwhite_c4\u001b[0m\u001b[0;34m.\u001b[0m\u001b[0msort_values\u001b[0m\u001b[0;34m(\u001b[0m\u001b[0;34m[\u001b[0m\u001b[0;34m'white_bool'\u001b[0m\u001b[0;34m]\u001b[0m\u001b[0;34m,\u001b[0m \u001b[0mascending\u001b[0m\u001b[0;34m=\u001b[0m\u001b[0;32mFalse\u001b[0m\u001b[0;34m)\u001b[0m\u001b[0;34m\u001b[0m\u001b[0;34m\u001b[0m\u001b[0m\n\u001b[1;32m      5\u001b[0m \u001b[0mwhite_d4\u001b[0m \u001b[0;34m=\u001b[0m \u001b[0mwhite_d4\u001b[0m\u001b[0;34m.\u001b[0m\u001b[0msort_values\u001b[0m\u001b[0;34m(\u001b[0m\u001b[0;34m[\u001b[0m\u001b[0;34m'white_bool'\u001b[0m\u001b[0;34m]\u001b[0m\u001b[0;34m,\u001b[0m \u001b[0mascending\u001b[0m\u001b[0;34m=\u001b[0m\u001b[0;32mFalse\u001b[0m\u001b[0;34m)\u001b[0m\u001b[0;34m\u001b[0m\u001b[0;34m\u001b[0m\u001b[0m\n",
      "\u001b[0;31mNameError\u001b[0m: name 'white_Nf3' is not defined"
     ]
    }
   ],
   "source": [
    "#Standardizing order and storing variable for global use\n",
    "\n",
    "white_Nf3 = white_Nf3.sort_values(['white_bool'], ascending=False)\n",
    "white_c4 = white_c4.sort_values(['white_bool'], ascending=False)\n",
    "white_d4 = white_d4.sort_values(['white_bool'], ascending=False)\n",
    "white_e4 = white_e4.sort_values(['white_bool'], ascending=False)\n",
    "\n",
    "black_sicilian = black_sicilian.sort_values(['black_bool'], ascending=False)\n",
    "black_italian = black_italian.sort_values(['black_bool'], ascending=False)\n",
    "black_caro = black_caro.sort_values(['black_bool'], ascending=False)\n",
    "black_french = black_french.sort_values(['black_bool'], ascending=False)\n",
    "black_alekhine = black_alekhine.sort_values(['black_bool'], ascending=False)\n",
    "black_indian = black_indian.sort_values(['black_bool'], ascending=False)\n",
    "black_queens = black_queens.sort_values(['black_bool'], ascending=False)\n",
    "\n",
    "%store white_openings\n",
    "%store white_e4\n",
    "%store white_d4\n",
    "%store white_c4\n",
    "%store white_Nf3\n",
    "\n",
    "%store first_move_for_black\n",
    "%store black_against_e4\n",
    "%store black_against_d4\n",
    "%store black_sicilian\n",
    "%store black_italian\n",
    "%store black_caro\n",
    "%store black_french\n",
    "%store black_alekhine\n",
    "%store black_indian\n",
    "%store black_queens"
   ]
  },
  {
   "cell_type": "code",
   "execution_count": 128,
   "metadata": {},
   "outputs": [],
   "source": [
    "connection.close()"
   ]
  },
  {
   "cell_type": "code",
   "execution_count": 129,
   "metadata": {},
   "outputs": [
    {
     "output_type": "execute_result",
     "data": {
      "text/plain": [
       "   black_bool  count\n",
       "1         1.0     18\n",
       "0         0.0     13"
      ],
      "text/html": "<div>\n<style scoped>\n    .dataframe tbody tr th:only-of-type {\n        vertical-align: middle;\n    }\n\n    .dataframe tbody tr th {\n        vertical-align: top;\n    }\n\n    .dataframe thead th {\n        text-align: right;\n    }\n</style>\n<table border=\"1\" class=\"dataframe\">\n  <thead>\n    <tr style=\"text-align: right;\">\n      <th></th>\n      <th>black_bool</th>\n      <th>count</th>\n    </tr>\n  </thead>\n  <tbody>\n    <tr>\n      <th>1</th>\n      <td>1.0</td>\n      <td>18</td>\n    </tr>\n    <tr>\n      <th>0</th>\n      <td>0.0</td>\n      <td>13</td>\n    </tr>\n  </tbody>\n</table>\n</div>"
     },
     "metadata": {},
     "execution_count": 129
    }
   ],
   "source": [
    "black_italian"
   ]
  },
  {
   "cell_type": "code",
   "execution_count": null,
   "metadata": {},
   "outputs": [],
   "source": []
  }
 ],
 "metadata": {
  "kernelspec": {
   "display_name": "Python 3",
   "language": "python",
   "name": "python3"
  },
  "language_info": {
   "codemirror_mode": {
    "name": "ipython",
    "version": 3
   },
   "file_extension": ".py",
   "mimetype": "text/x-python",
   "name": "python",
   "nbconvert_exporter": "python",
   "pygments_lexer": "ipython3",
   "version": "3.7.7-final"
  }
 },
 "nbformat": 4,
 "nbformat_minor": 4
}