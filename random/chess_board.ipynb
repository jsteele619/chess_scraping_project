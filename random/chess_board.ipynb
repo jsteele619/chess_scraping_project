{
 "cells": [
  {
   "cell_type": "code",
   "execution_count": 6,
   "metadata": {},
   "outputs": [],
   "source": [
    "import chess\n",
    "import chess.engine\n",
    "import chess.pgn\n",
    "import asyncio\n",
    "import pandas as pd\n",
    "import io\n",
    "\n",
    "master_df = pd.read_csv(\"csv_files/master_df.csv\")\n",
    "board = chess.Board()\n",
    "engine = chess.engine.SimpleEngine.popen_uci(\"Stockfish\")"
   ]
  },
  {
   "cell_type": "code",
   "execution_count": 7,
   "metadata": {},
   "outputs": [],
   "source": [
    "import io\n",
    "\n",
    "game_score = []\n",
    "best_move = []\n",
    "pgn = io.StringIO(master_df['pgn_string'][11000])\n",
    "game = chess.pgn.read_game(pgn)\n",
    "board = game.board()\n",
    "\n",
    "for move in game.mainline_moves():\n",
    "    board.push(move)\n",
    "    info = engine.analyse(board, chess.engine.Limit(time=0.1))\n",
    "    score = info['score']\n",
    "    game_score.append(score)\n",
    "    \n",
    "    \n"
   ]
  },
  {
   "cell_type": "code",
   "execution_count": 5,
   "metadata": {},
   "outputs": [],
   "source": [
    "ch = chess.engine.AnalysisResult.wait(board)\n"
   ]
  },
  {
   "cell_type": "code",
   "execution_count": 3,
   "metadata": {
    "scrolled": true
   },
   "outputs": [
    {
     "data": {
      "text/plain": [
       "PovScore(Cp(-32), BLACK)"
      ]
     },
     "execution_count": 3,
     "metadata": {},
     "output_type": "execute_result"
    }
   ],
   "source": [
    "game_score[4]"
   ]
  },
  {
   "cell_type": "code",
   "execution_count": 4,
   "metadata": {},
   "outputs": [
    {
     "data": {
      "text/plain": [
       "'https://www.chess.com/live/game/4127262891'"
      ]
     },
     "execution_count": 4,
     "metadata": {},
     "output_type": "execute_result"
    }
   ],
   "source": [
    "master_df['url'][11000]"
   ]
  },
  {
   "cell_type": "code",
   "execution_count": null,
   "metadata": {},
   "outputs": [],
   "source": []
  }
 ],
 "metadata": {
  "kernelspec": {
   "display_name": "Python 3",
   "language": "python",
   "name": "python3"
  },
  "language_info": {
   "codemirror_mode": {
    "name": "ipython",
    "version": 3
   },
   "file_extension": ".py",
   "mimetype": "text/x-python",
   "name": "python",
   "nbconvert_exporter": "python",
   "pygments_lexer": "ipython3",
   "version": "3.7.7"
  }
 },
 "nbformat": 4,
 "nbformat_minor": 4
}
