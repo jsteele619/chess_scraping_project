# Finding white and black win percentage

select sum(white_bool), count(white_bool), cast(sum(white_bool) as float) / cast(count(white_bool) as float) from chess
where white_name = 'jsteele619'

select sum(black_bool), count(black_bool), cast(sum(black_bool) as float) / cast(count(black_bool) as float) from chess
where black_name = 'jsteele619'

# Finding how many games I've played the King's Indian

select count(black_result), black_result from chess
where black_name = 'jsteele619' 
and eco_name like '%King%'
group by "black_result"

# Finding a game I won using the Caro Kann as black

select * from chess
where black_name = 'jsteele619' and black_result = 'win' and black_rating >= 1900
and eco_name like '%Caro%'

# Finding my results from the black side of the Ruy Lopez

select eco_name, sum(black_bool), count(black_bool), cast(sum(black_bool) as float) / cast(count(black_bool) as float) as result1 from chess
where black_name = 'jsteele619' and eco_name like '%Ruy%'
group by eco_name
order by result1 desc

# Finding my white results from the Sicilian

select eco_code, sum(white_bool), count(white_bool), cast(sum(white_bool) as float) / cast(count(white_bool) as float) as result1 from chess
where white_name = 'jsteele619' and eco_name like '%Sicil%'
group by eco_code
order by count desc

# Percent of games won when playing e5 as black with higher rated opponent

select sum(black_bool), count(black_bool), cast(sum(black_bool) as float) / cast(count(black_bool) as float) as percentage from chess
where black_name = 'jsteele619' and pgn_string like '1. e4 1... e5%'
and black_rating < white_rating