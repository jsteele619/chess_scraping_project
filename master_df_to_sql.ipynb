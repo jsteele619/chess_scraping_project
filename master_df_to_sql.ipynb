{
 "cells": [
  {
   "cell_type": "code",
   "execution_count": 1,
   "metadata": {},
   "outputs": [],
   "source": [
    "import pandas as pd\n",
    "from sqlalchemy import create_engine\n",
    "from config import login"
   ]
  },
  {
   "cell_type": "code",
   "execution_count": 2,
   "metadata": {},
   "outputs": [],
   "source": [
    "db_url = 'postgresql://' + login + '@localhost:5432/chess_db'\n",
    "engine = create_engine(db_url)\n",
    "connection = engine.connect()"
   ]
  },
  {
   "cell_type": "code",
   "execution_count": 7,
   "metadata": {},
   "outputs": [],
   "source": [
    "master_df = pd.read_csv(\"csv_files/master_df.csv\")\n",
    "master_df = master_df.set_index(\"date\")"
   ]
  },
  {
   "cell_type": "code",
   "execution_count": 8,
   "metadata": {},
   "outputs": [],
   "source": [
    "master_df.to_sql('chess', engine, if_exists='append')"
   ]
  },
  {
   "cell_type": "code",
   "execution_count": 5,
   "metadata": {},
   "outputs": [
    {
     "ename": "SyntaxError",
     "evalue": "invalid syntax (<ipython-input-5-090c36626663>, line 3)",
     "output_type": "error",
     "traceback": [
      "\u001b[0;36m  File \u001b[0;32m\"<ipython-input-5-090c36626663>\"\u001b[0;36m, line \u001b[0;32m3\u001b[0m\n\u001b[0;31m    DROP TABLE \"chess\";\u001b[0m\n\u001b[0m             ^\u001b[0m\n\u001b[0;31mSyntaxError\u001b[0m\u001b[0;31m:\u001b[0m invalid syntax\n"
     ]
    }
   ],
   "source": [
    "#SQL CODE to create table\n",
    "\n",
    "DROP TABLE \"chess\";\n",
    "\n",
    "CREATE TABLE \"chess\" (\n",
    "\t\"date\" date,\n",
    "\t\"time\" varchar(40),\n",
    "\t\"white_name\" varchar(40),\n",
    "\t\"white_rating\" int,\n",
    "\t\"white_result\" varchar(40),\n",
    "\t\"white_bool\" float,    \n",
    "\t\"black_name\" varchar(40),\n",
    "\t\"black_rating\" int,\n",
    "\t\"black_result\" varchar(40),\n",
    "\t\"black_bool\" float,\n",
    "\t\"eco_code\" varchar(10),\n",
    "\t\"eco_name\" varchar(250),\n",
    "\t\"pgn_score\" varchar(5000),\n",
    "\t\"pgn_string\" varchar(5000),    \n",
    "\t\"url\" varchar(750));\n"
   ]
  },
  {
   "cell_type": "code",
   "execution_count": null,
   "metadata": {},
   "outputs": [],
   "source": [
    "# Finding a game I won using the Caro Kann as black\n",
    "\n",
    "select * from chess\n",
    "where black_name = 'jsteele619' and black_result = 'win' and black_rating >= 1900\n",
    "and eco_name like '%Caro%'"
   ]
  },
  {
   "cell_type": "code",
   "execution_count": null,
   "metadata": {},
   "outputs": [],
   "source": [
    "# Finding white and black win percentage\n",
    "\n",
    "select sum(white_bool), count(white_bool), cast(sum(white_bool) as float) / cast(count(white_bool) as float) from chess\n",
    "where white_name = 'jsteele619'\n",
    "\n",
    "select sum(black_bool), count(black_bool), cast(sum(black_bool) as float) / cast(count(black_bool) as float) from chess\n",
    "where black_name = 'jsteele619'"
   ]
  },
  {
   "cell_type": "code",
   "execution_count": null,
   "metadata": {},
   "outputs": [],
   "source": [
    "# Finding how many games I've played the King's Indian\n",
    "\n",
    "select count(black_result), black_result from chess\n",
    "where black_name = 'jsteele619' \n",
    "and eco_name like '%King%'\n",
    "group by \"black_result\""
   ]
  },
  {
   "cell_type": "code",
   "execution_count": null,
   "metadata": {},
   "outputs": [],
   "source": [
    "# Finding my results from the black side of the Ruy Lopez\n",
    "\n",
    "select eco_name, sum(black_bool), count(black_bool), cast(sum(black_bool) as float) / cast(count(black_bool) as float) as result1 from chess\n",
    "where black_name = 'jsteele619' and eco_name like '%Ruy%'\n",
    "group by eco_name\n",
    "order by result1 desc"
   ]
  },
  {
   "cell_type": "code",
   "execution_count": null,
   "metadata": {},
   "outputs": [],
   "source": [
    "# Finding my white results from the Sicilian\n",
    "\n",
    "select eco_code, sum(white_bool), count(white_bool), cast(sum(white_bool) as float) / cast(count(white_bool) as float) as result1 from chess\n",
    "where white_name = 'jsteele619' and eco_name like '%Sicil%'\n",
    "group by eco_code\n",
    "order by count desc"
   ]
  },
  {
   "cell_type": "code",
   "execution_count": null,
   "metadata": {},
   "outputs": [],
   "source": [
    "# Percent of games won when playing e5 as black with higher rated opponent\n",
    "\n",
    "select sum(black_bool), count(black_bool), cast(sum(black_bool) as float) / cast(count(black_bool) as float) as percentage from chess\n",
    "where black_name = 'jsteele619' and pgn_string like '1. e4 1... e5%'\n",
    "and black_rating < white_rating"
   ]
  }
 ],
 "metadata": {
  "kernelspec": {
   "display_name": "Python 3",
   "language": "python",
   "name": "python3"
  },
  "language_info": {
   "codemirror_mode": {
    "name": "ipython",
    "version": 3
   },
   "file_extension": ".py",
   "mimetype": "text/x-python",
   "name": "python",
   "nbconvert_exporter": "python",
   "pygments_lexer": "ipython3",
   "version": "3.7.7"
  }
 },
 "nbformat": 4,
 "nbformat_minor": 4
}
